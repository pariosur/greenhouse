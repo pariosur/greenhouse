{
 "cells": [
  {
   "cell_type": "markdown",
   "id": "a96c9be5",
   "metadata": {},
   "source": [
    "# Green House Time Series RNN"
   ]
  },
  {
   "cell_type": "markdown",
   "id": "852ad981",
   "metadata": {},
   "source": [
    "- The goal is to predict the Air Temperature ('Tair') in the next 5, 10, 15.. minutes\n",
    "- ...based on a sequence of weather features such as the past Air Temperature,  relative humidity, CO2 air etc.."
   ]
  },
  {
   "cell_type": "markdown",
   "id": "8d4fd91f",
   "metadata": {},
   "source": [
    "## Libraries"
   ]
  },
  {
   "cell_type": "markdown",
   "id": "f3ce02c4",
   "metadata": {},
   "source": [
    "Import the usual libraries:"
   ]
  },
  {
   "cell_type": "code",
   "execution_count": 1,
   "id": "efd57613",
   "metadata": {},
   "outputs": [
    {
     "name": "stderr",
     "output_type": "stream",
     "text": [
      "/home/proctor/.pyenv/versions/3.8.12/envs/lewagon/lib/python3.8/site-packages/scipy/__init__.py:146: UserWarning: A NumPy version >=1.16.5 and <1.23.0 is required for this version of SciPy (detected version 1.23.3\n",
      "  warnings.warn(f\"A NumPy version >={np_minversion} and <{np_maxversion}\"\n",
      "2022-11-06 14:55:55.708695: W tensorflow/stream_executor/platform/default/dso_loader.cc:64] Could not load dynamic library 'libcudart.so.11.0'; dlerror: libcudart.so.11.0: cannot open shared object file: No such file or directory\n",
      "2022-11-06 14:55:55.708769: I tensorflow/stream_executor/cuda/cudart_stub.cc:29] Ignore above cudart dlerror if you do not have a GPU set up on your machine.\n"
     ]
    }
   ],
   "source": [
    "# Data manipulation\n",
    "import numpy as np\n",
    "import pandas as pd\n",
    "\n",
    "# Data Visualiation\n",
    "import matplotlib.pyplot as plt\n",
    "import seaborn as sns\n",
    "\n",
    "# System\n",
    "import os\n",
    "\n",
    "# Deep Learning\n",
    "import tensorflow as tf"
   ]
  },
  {
   "cell_type": "code",
   "execution_count": 2,
   "id": "4990608a",
   "metadata": {},
   "outputs": [],
   "source": [
    "from typing import Dict, List, Tuple, Sequence"
   ]
  },
  {
   "cell_type": "markdown",
   "id": "92d65076",
   "metadata": {},
   "source": [
    "## Import Dataset\n"
   ]
  },
  {
   "cell_type": "markdown",
   "id": "4c4b08f0",
   "metadata": {},
   "source": [
    "Import preprocessed dataset"
   ]
  },
  {
   "cell_type": "code",
   "execution_count": 3,
   "id": "33dc6134",
   "metadata": {
    "scrolled": true
   },
   "outputs": [
    {
     "name": "stderr",
     "output_type": "stream",
     "text": [
      "/tmp/ipykernel_576/2091057874.py:1: DtypeWarning: Columns (1,2,3,4,5,6,7,8,9,10,11,12,14,15,17,18,20,22,23,25,27,29,31,33,35,37,39,41,43,44,45,47,49) have mixed types. Specify dtype option on import or set low_memory=False.\n",
      "  df = pd.read_csv('GreenhouseClimate.csv')\n"
     ]
    },
    {
     "data": {
      "text/html": [
       "<div>\n",
       "<style scoped>\n",
       "    .dataframe tbody tr th:only-of-type {\n",
       "        vertical-align: middle;\n",
       "    }\n",
       "\n",
       "    .dataframe tbody tr th {\n",
       "        vertical-align: top;\n",
       "    }\n",
       "\n",
       "    .dataframe thead th {\n",
       "        text-align: right;\n",
       "    }\n",
       "</style>\n",
       "<table border=\"1\" class=\"dataframe\">\n",
       "  <thead>\n",
       "    <tr style=\"text-align: right;\">\n",
       "      <th></th>\n",
       "      <th>%time</th>\n",
       "      <th>AssimLight</th>\n",
       "      <th>BlackScr</th>\n",
       "      <th>CO2air</th>\n",
       "      <th>Cum_irr</th>\n",
       "      <th>EC_drain_PC</th>\n",
       "      <th>EnScr</th>\n",
       "      <th>HumDef</th>\n",
       "      <th>PipeGrow</th>\n",
       "      <th>PipeLow</th>\n",
       "      <th>...</th>\n",
       "      <th>t_rail_min_sp</th>\n",
       "      <th>t_rail_min_vip</th>\n",
       "      <th>t_vent_sp</th>\n",
       "      <th>t_ventlee_vip</th>\n",
       "      <th>t_ventwind_vip</th>\n",
       "      <th>water_sup</th>\n",
       "      <th>water_sup_intervals_sp_min</th>\n",
       "      <th>water_sup_intervals_vip_min</th>\n",
       "      <th>window_pos_lee_sp</th>\n",
       "      <th>window_pos_lee_vip</th>\n",
       "    </tr>\n",
       "  </thead>\n",
       "  <tbody>\n",
       "    <tr>\n",
       "      <th>0</th>\n",
       "      <td>43815.00000</td>\n",
       "      <td>0</td>\n",
       "      <td>35</td>\n",
       "      <td>472</td>\n",
       "      <td>0.4</td>\n",
       "      <td>4.0</td>\n",
       "      <td>100</td>\n",
       "      <td>7.2</td>\n",
       "      <td>0.0</td>\n",
       "      <td>45.2</td>\n",
       "      <td>...</td>\n",
       "      <td>NaN</td>\n",
       "      <td>0.0</td>\n",
       "      <td>NaN</td>\n",
       "      <td>25.0</td>\n",
       "      <td>26.0</td>\n",
       "      <td>4.0</td>\n",
       "      <td>NaN</td>\n",
       "      <td>1000</td>\n",
       "      <td>NaN</td>\n",
       "      <td>1.2</td>\n",
       "    </tr>\n",
       "    <tr>\n",
       "      <th>1</th>\n",
       "      <td>43815.00347</td>\n",
       "      <td>0</td>\n",
       "      <td>85</td>\n",
       "      <td>501</td>\n",
       "      <td>0.5</td>\n",
       "      <td>4.0</td>\n",
       "      <td>100</td>\n",
       "      <td>6.9</td>\n",
       "      <td>0.0</td>\n",
       "      <td>43.6</td>\n",
       "      <td>...</td>\n",
       "      <td>NaN</td>\n",
       "      <td>0.0</td>\n",
       "      <td>NaN</td>\n",
       "      <td>25.0</td>\n",
       "      <td>26.0</td>\n",
       "      <td>6.0</td>\n",
       "      <td>NaN</td>\n",
       "      <td>1000</td>\n",
       "      <td>NaN</td>\n",
       "      <td>1.2</td>\n",
       "    </tr>\n",
       "    <tr>\n",
       "      <th>2</th>\n",
       "      <td>43815.00694</td>\n",
       "      <td>0</td>\n",
       "      <td>96</td>\n",
       "      <td>489</td>\n",
       "      <td>0.5</td>\n",
       "      <td>4.0</td>\n",
       "      <td>100</td>\n",
       "      <td>7.2</td>\n",
       "      <td>0.0</td>\n",
       "      <td>42.3</td>\n",
       "      <td>...</td>\n",
       "      <td>NaN</td>\n",
       "      <td>0.0</td>\n",
       "      <td>NaN</td>\n",
       "      <td>25.0</td>\n",
       "      <td>26.0</td>\n",
       "      <td>6.0</td>\n",
       "      <td>NaN</td>\n",
       "      <td>1000</td>\n",
       "      <td>NaN</td>\n",
       "      <td>1.2</td>\n",
       "    </tr>\n",
       "    <tr>\n",
       "      <th>3</th>\n",
       "      <td>43815.01042</td>\n",
       "      <td>0</td>\n",
       "      <td>96</td>\n",
       "      <td>497</td>\n",
       "      <td>0.5</td>\n",
       "      <td>4.0</td>\n",
       "      <td>100</td>\n",
       "      <td>6.7</td>\n",
       "      <td>0.0</td>\n",
       "      <td>41.2</td>\n",
       "      <td>...</td>\n",
       "      <td>NaN</td>\n",
       "      <td>0.0</td>\n",
       "      <td>NaN</td>\n",
       "      <td>25.0</td>\n",
       "      <td>26.0</td>\n",
       "      <td>6.0</td>\n",
       "      <td>NaN</td>\n",
       "      <td>1000</td>\n",
       "      <td>NaN</td>\n",
       "      <td>1.2</td>\n",
       "    </tr>\n",
       "    <tr>\n",
       "      <th>4</th>\n",
       "      <td>43815.01389</td>\n",
       "      <td>0</td>\n",
       "      <td>96</td>\n",
       "      <td>477</td>\n",
       "      <td>0.5</td>\n",
       "      <td>4.0</td>\n",
       "      <td>100</td>\n",
       "      <td>6.7</td>\n",
       "      <td>0.0</td>\n",
       "      <td>41.2</td>\n",
       "      <td>...</td>\n",
       "      <td>NaN</td>\n",
       "      <td>0.0</td>\n",
       "      <td>NaN</td>\n",
       "      <td>25.0</td>\n",
       "      <td>26.0</td>\n",
       "      <td>6.0</td>\n",
       "      <td>NaN</td>\n",
       "      <td>1000</td>\n",
       "      <td>NaN</td>\n",
       "      <td>1.2</td>\n",
       "    </tr>\n",
       "    <tr>\n",
       "      <th>...</th>\n",
       "      <td>...</td>\n",
       "      <td>...</td>\n",
       "      <td>...</td>\n",
       "      <td>...</td>\n",
       "      <td>...</td>\n",
       "      <td>...</td>\n",
       "      <td>...</td>\n",
       "      <td>...</td>\n",
       "      <td>...</td>\n",
       "      <td>...</td>\n",
       "      <td>...</td>\n",
       "      <td>...</td>\n",
       "      <td>...</td>\n",
       "      <td>...</td>\n",
       "      <td>...</td>\n",
       "      <td>...</td>\n",
       "      <td>...</td>\n",
       "      <td>...</td>\n",
       "      <td>...</td>\n",
       "      <td>...</td>\n",
       "      <td>...</td>\n",
       "    </tr>\n",
       "    <tr>\n",
       "      <th>47804</th>\n",
       "      <td>43980.98611</td>\n",
       "      <td>0</td>\n",
       "      <td>0</td>\n",
       "      <td>461</td>\n",
       "      <td>1.6</td>\n",
       "      <td>10.4</td>\n",
       "      <td>0</td>\n",
       "      <td>2.7</td>\n",
       "      <td>0.0</td>\n",
       "      <td>0.0</td>\n",
       "      <td>...</td>\n",
       "      <td>0.0</td>\n",
       "      <td>0.0</td>\n",
       "      <td>18.0</td>\n",
       "      <td>18.0</td>\n",
       "      <td>20.0</td>\n",
       "      <td>18.0</td>\n",
       "      <td>NaN</td>\n",
       "      <td>30</td>\n",
       "      <td>0.0</td>\n",
       "      <td>0.0</td>\n",
       "    </tr>\n",
       "    <tr>\n",
       "      <th>47805</th>\n",
       "      <td>43980.98958</td>\n",
       "      <td>0</td>\n",
       "      <td>0</td>\n",
       "      <td>466</td>\n",
       "      <td>1.6</td>\n",
       "      <td>10.3</td>\n",
       "      <td>0</td>\n",
       "      <td>2.5</td>\n",
       "      <td>0.0</td>\n",
       "      <td>0.0</td>\n",
       "      <td>...</td>\n",
       "      <td>0.0</td>\n",
       "      <td>0.0</td>\n",
       "      <td>18.0</td>\n",
       "      <td>18.0</td>\n",
       "      <td>20.0</td>\n",
       "      <td>18.0</td>\n",
       "      <td>NaN</td>\n",
       "      <td>30</td>\n",
       "      <td>0.0</td>\n",
       "      <td>0.0</td>\n",
       "    </tr>\n",
       "    <tr>\n",
       "      <th>47806</th>\n",
       "      <td>43980.99306</td>\n",
       "      <td>0</td>\n",
       "      <td>0</td>\n",
       "      <td>474</td>\n",
       "      <td>1.6</td>\n",
       "      <td>10.3</td>\n",
       "      <td>5</td>\n",
       "      <td>2.5</td>\n",
       "      <td>0.0</td>\n",
       "      <td>0.0</td>\n",
       "      <td>...</td>\n",
       "      <td>0.0</td>\n",
       "      <td>0.0</td>\n",
       "      <td>18.0</td>\n",
       "      <td>18.0</td>\n",
       "      <td>20.0</td>\n",
       "      <td>18.0</td>\n",
       "      <td>NaN</td>\n",
       "      <td>30</td>\n",
       "      <td>0.0</td>\n",
       "      <td>0.0</td>\n",
       "    </tr>\n",
       "    <tr>\n",
       "      <th>47807</th>\n",
       "      <td>43980.99653</td>\n",
       "      <td>0</td>\n",
       "      <td>0</td>\n",
       "      <td>476</td>\n",
       "      <td>1.6</td>\n",
       "      <td>10.3</td>\n",
       "      <td>5</td>\n",
       "      <td>2.4</td>\n",
       "      <td>0.0</td>\n",
       "      <td>0.0</td>\n",
       "      <td>...</td>\n",
       "      <td>0.0</td>\n",
       "      <td>0.0</td>\n",
       "      <td>18.0</td>\n",
       "      <td>18.0</td>\n",
       "      <td>20.0</td>\n",
       "      <td>18.0</td>\n",
       "      <td>NaN</td>\n",
       "      <td>30</td>\n",
       "      <td>0.0</td>\n",
       "      <td>0.0</td>\n",
       "    </tr>\n",
       "    <tr>\n",
       "      <th>47808</th>\n",
       "      <td>43981.00000</td>\n",
       "      <td>NaN</td>\n",
       "      <td>NaN</td>\n",
       "      <td>NaN</td>\n",
       "      <td>NaN</td>\n",
       "      <td>NaN</td>\n",
       "      <td>NaN</td>\n",
       "      <td>NaN</td>\n",
       "      <td>NaN</td>\n",
       "      <td>NaN</td>\n",
       "      <td>...</td>\n",
       "      <td>0.0</td>\n",
       "      <td>NaN</td>\n",
       "      <td>18.0</td>\n",
       "      <td>NaN</td>\n",
       "      <td>NaN</td>\n",
       "      <td>NaN</td>\n",
       "      <td>NaN</td>\n",
       "      <td>NaN</td>\n",
       "      <td>0.0</td>\n",
       "      <td>NaN</td>\n",
       "    </tr>\n",
       "  </tbody>\n",
       "</table>\n",
       "<p>47809 rows × 50 columns</p>\n",
       "</div>"
      ],
      "text/plain": [
       "             %time AssimLight BlackScr CO2air Cum_irr EC_drain_PC EnScr  \\\n",
       "0      43815.00000          0       35    472     0.4         4.0   100   \n",
       "1      43815.00347          0       85    501     0.5         4.0   100   \n",
       "2      43815.00694          0       96    489     0.5         4.0   100   \n",
       "3      43815.01042          0       96    497     0.5         4.0   100   \n",
       "4      43815.01389          0       96    477     0.5         4.0   100   \n",
       "...            ...        ...      ...    ...     ...         ...   ...   \n",
       "47804  43980.98611          0        0    461     1.6        10.4     0   \n",
       "47805  43980.98958          0        0    466     1.6        10.3     0   \n",
       "47806  43980.99306          0        0    474     1.6        10.3     5   \n",
       "47807  43980.99653          0        0    476     1.6        10.3     5   \n",
       "47808  43981.00000        NaN      NaN    NaN     NaN         NaN   NaN   \n",
       "\n",
       "      HumDef PipeGrow PipeLow  ... t_rail_min_sp t_rail_min_vip t_vent_sp  \\\n",
       "0        7.2      0.0    45.2  ...           NaN            0.0       NaN   \n",
       "1        6.9      0.0    43.6  ...           NaN            0.0       NaN   \n",
       "2        7.2      0.0    42.3  ...           NaN            0.0       NaN   \n",
       "3        6.7      0.0    41.2  ...           NaN            0.0       NaN   \n",
       "4        6.7      0.0    41.2  ...           NaN            0.0       NaN   \n",
       "...      ...      ...     ...  ...           ...            ...       ...   \n",
       "47804    2.7      0.0     0.0  ...           0.0            0.0      18.0   \n",
       "47805    2.5      0.0     0.0  ...           0.0            0.0      18.0   \n",
       "47806    2.5      0.0     0.0  ...           0.0            0.0      18.0   \n",
       "47807    2.4      0.0     0.0  ...           0.0            0.0      18.0   \n",
       "47808    NaN      NaN     NaN  ...           0.0            NaN      18.0   \n",
       "\n",
       "       t_ventlee_vip t_ventwind_vip water_sup water_sup_intervals_sp_min  \\\n",
       "0               25.0           26.0       4.0                        NaN   \n",
       "1               25.0           26.0       6.0                        NaN   \n",
       "2               25.0           26.0       6.0                        NaN   \n",
       "3               25.0           26.0       6.0                        NaN   \n",
       "4               25.0           26.0       6.0                        NaN   \n",
       "...              ...            ...       ...                        ...   \n",
       "47804           18.0           20.0      18.0                        NaN   \n",
       "47805           18.0           20.0      18.0                        NaN   \n",
       "47806           18.0           20.0      18.0                        NaN   \n",
       "47807           18.0           20.0      18.0                        NaN   \n",
       "47808            NaN            NaN       NaN                        NaN   \n",
       "\n",
       "      water_sup_intervals_vip_min window_pos_lee_sp window_pos_lee_vip  \n",
       "0                            1000               NaN                1.2  \n",
       "1                            1000               NaN                1.2  \n",
       "2                            1000               NaN                1.2  \n",
       "3                            1000               NaN                1.2  \n",
       "4                            1000               NaN                1.2  \n",
       "...                           ...               ...                ...  \n",
       "47804                          30               0.0                0.0  \n",
       "47805                          30               0.0                0.0  \n",
       "47806                          30               0.0                0.0  \n",
       "47807                          30               0.0                0.0  \n",
       "47808                         NaN               0.0                NaN  \n",
       "\n",
       "[47809 rows x 50 columns]"
      ]
     },
     "execution_count": 3,
     "metadata": {},
     "output_type": "execute_result"
    }
   ],
   "source": [
    "df = pd.read_csv('GreenhouseClimate.csv')\n",
    "df"
   ]
  },
  {
   "cell_type": "markdown",
   "id": "c6df79cd",
   "metadata": {},
   "source": [
    "## Prepare the dataset"
   ]
  },
  {
   "cell_type": "code",
   "execution_count": 4,
   "id": "1de4bb3f",
   "metadata": {},
   "outputs": [],
   "source": [
    "df.rename(columns={\"%time\": \"Time\"}, inplace=True)\n",
    "df['Time'] = pd.to_datetime(df['Time'], unit='D', origin='1899-12-30')"
   ]
  },
  {
   "cell_type": "code",
   "execution_count": 5,
   "id": "7088000d",
   "metadata": {},
   "outputs": [
    {
     "data": {
      "text/plain": [
       "Index(['Rhair', 'Tair', 'CO2air', 'HumDef', 'pH_drain_PC', 'EC_drain_PC',\n",
       "       'Tot_PAR', 'Tot_PAR_Lamps'],\n",
       "      dtype='object')"
      ]
     },
     "execution_count": 5,
     "metadata": {},
     "output_type": "execute_result"
    }
   ],
   "source": [
    "df= df[['Rhair', 'Tair', 'CO2air', 'HumDef', 'pH_drain_PC', 'EC_drain_PC', 'Tot_PAR', 'Tot_PAR_Lamps']]\n",
    "df.columns     "
   ]
  },
  {
   "cell_type": "code",
   "execution_count": 34,
   "id": "9cf4d34e",
   "metadata": {},
   "outputs": [],
   "source": [
    "#convert object to float64\n",
    "df = df.astype(float)"
   ]
  },
  {
   "cell_type": "code",
   "execution_count": 35,
   "id": "7cbbf849",
   "metadata": {
    "scrolled": true
   },
   "outputs": [
    {
     "name": "stdout",
     "output_type": "stream",
     "text": [
      "<class 'pandas.core.frame.DataFrame'>\n",
      "RangeIndex: 47809 entries, 0 to 47808\n",
      "Data columns (total 8 columns):\n",
      " #   Column         Non-Null Count  Dtype  \n",
      "---  ------         --------------  -----  \n",
      " 0   Rhair          47738 non-null  float64\n",
      " 1   Tair           47738 non-null  float64\n",
      " 2   CO2air         47738 non-null  float64\n",
      " 3   HumDef         47738 non-null  float64\n",
      " 4   pH_drain_PC    47738 non-null  float64\n",
      " 5   EC_drain_PC    47738 non-null  float64\n",
      " 6   Tot_PAR        47738 non-null  float64\n",
      " 7   Tot_PAR_Lamps  47809 non-null  float64\n",
      "dtypes: float64(8)\n",
      "memory usage: 2.9 MB\n"
     ]
    }
   ],
   "source": [
    "df.info()"
   ]
  },
  {
   "cell_type": "code",
   "execution_count": 36,
   "id": "4b5acd47",
   "metadata": {},
   "outputs": [
    {
     "data": {
      "text/html": [
       "<div>\n",
       "<style scoped>\n",
       "    .dataframe tbody tr th:only-of-type {\n",
       "        vertical-align: middle;\n",
       "    }\n",
       "\n",
       "    .dataframe tbody tr th {\n",
       "        vertical-align: top;\n",
       "    }\n",
       "\n",
       "    .dataframe thead th {\n",
       "        text-align: right;\n",
       "    }\n",
       "</style>\n",
       "<table border=\"1\" class=\"dataframe\">\n",
       "  <thead>\n",
       "    <tr style=\"text-align: right;\">\n",
       "      <th></th>\n",
       "      <th>Rhair</th>\n",
       "      <th>Tair</th>\n",
       "      <th>CO2air</th>\n",
       "      <th>HumDef</th>\n",
       "      <th>pH_drain_PC</th>\n",
       "      <th>EC_drain_PC</th>\n",
       "      <th>Tot_PAR</th>\n",
       "      <th>Tot_PAR_Lamps</th>\n",
       "    </tr>\n",
       "  </thead>\n",
       "  <tbody>\n",
       "    <tr>\n",
       "      <th>0</th>\n",
       "      <td>60.6</td>\n",
       "      <td>20.9</td>\n",
       "      <td>472.0</td>\n",
       "      <td>7.2</td>\n",
       "      <td>6.3</td>\n",
       "      <td>4.0</td>\n",
       "      <td>0.0</td>\n",
       "      <td>0.0</td>\n",
       "    </tr>\n",
       "    <tr>\n",
       "      <th>1</th>\n",
       "      <td>61.4</td>\n",
       "      <td>20.7</td>\n",
       "      <td>501.0</td>\n",
       "      <td>6.9</td>\n",
       "      <td>6.3</td>\n",
       "      <td>4.0</td>\n",
       "      <td>0.0</td>\n",
       "      <td>0.0</td>\n",
       "    </tr>\n",
       "    <tr>\n",
       "      <th>2</th>\n",
       "      <td>60.9</td>\n",
       "      <td>21.2</td>\n",
       "      <td>489.0</td>\n",
       "      <td>7.2</td>\n",
       "      <td>6.3</td>\n",
       "      <td>4.0</td>\n",
       "      <td>0.0</td>\n",
       "      <td>0.0</td>\n",
       "    </tr>\n",
       "    <tr>\n",
       "      <th>3</th>\n",
       "      <td>62.5</td>\n",
       "      <td>20.7</td>\n",
       "      <td>497.0</td>\n",
       "      <td>6.7</td>\n",
       "      <td>6.3</td>\n",
       "      <td>4.0</td>\n",
       "      <td>0.0</td>\n",
       "      <td>0.0</td>\n",
       "    </tr>\n",
       "    <tr>\n",
       "      <th>4</th>\n",
       "      <td>62.7</td>\n",
       "      <td>20.7</td>\n",
       "      <td>477.0</td>\n",
       "      <td>6.7</td>\n",
       "      <td>6.3</td>\n",
       "      <td>4.0</td>\n",
       "      <td>0.0</td>\n",
       "      <td>0.0</td>\n",
       "    </tr>\n",
       "    <tr>\n",
       "      <th>...</th>\n",
       "      <td>...</td>\n",
       "      <td>...</td>\n",
       "      <td>...</td>\n",
       "      <td>...</td>\n",
       "      <td>...</td>\n",
       "      <td>...</td>\n",
       "      <td>...</td>\n",
       "      <td>...</td>\n",
       "    </tr>\n",
       "    <tr>\n",
       "      <th>47804</th>\n",
       "      <td>83.0</td>\n",
       "      <td>18.3</td>\n",
       "      <td>461.0</td>\n",
       "      <td>2.7</td>\n",
       "      <td>4.5</td>\n",
       "      <td>10.4</td>\n",
       "      <td>0.0</td>\n",
       "      <td>0.0</td>\n",
       "    </tr>\n",
       "    <tr>\n",
       "      <th>47805</th>\n",
       "      <td>83.5</td>\n",
       "      <td>18.0</td>\n",
       "      <td>466.0</td>\n",
       "      <td>2.5</td>\n",
       "      <td>4.5</td>\n",
       "      <td>10.3</td>\n",
       "      <td>1.0</td>\n",
       "      <td>0.0</td>\n",
       "    </tr>\n",
       "    <tr>\n",
       "      <th>47806</th>\n",
       "      <td>84.0</td>\n",
       "      <td>18.2</td>\n",
       "      <td>474.0</td>\n",
       "      <td>2.5</td>\n",
       "      <td>4.5</td>\n",
       "      <td>10.3</td>\n",
       "      <td>0.0</td>\n",
       "      <td>0.0</td>\n",
       "    </tr>\n",
       "    <tr>\n",
       "      <th>47807</th>\n",
       "      <td>84.3</td>\n",
       "      <td>18.1</td>\n",
       "      <td>476.0</td>\n",
       "      <td>2.4</td>\n",
       "      <td>4.5</td>\n",
       "      <td>10.3</td>\n",
       "      <td>0.0</td>\n",
       "      <td>0.0</td>\n",
       "    </tr>\n",
       "    <tr>\n",
       "      <th>47808</th>\n",
       "      <td>NaN</td>\n",
       "      <td>NaN</td>\n",
       "      <td>NaN</td>\n",
       "      <td>NaN</td>\n",
       "      <td>NaN</td>\n",
       "      <td>NaN</td>\n",
       "      <td>NaN</td>\n",
       "      <td>0.0</td>\n",
       "    </tr>\n",
       "  </tbody>\n",
       "</table>\n",
       "<p>47809 rows × 8 columns</p>\n",
       "</div>"
      ],
      "text/plain": [
       "       Rhair  Tair  CO2air  HumDef  pH_drain_PC  EC_drain_PC  Tot_PAR  \\\n",
       "0       60.6  20.9   472.0     7.2          6.3          4.0      0.0   \n",
       "1       61.4  20.7   501.0     6.9          6.3          4.0      0.0   \n",
       "2       60.9  21.2   489.0     7.2          6.3          4.0      0.0   \n",
       "3       62.5  20.7   497.0     6.7          6.3          4.0      0.0   \n",
       "4       62.7  20.7   477.0     6.7          6.3          4.0      0.0   \n",
       "...      ...   ...     ...     ...          ...          ...      ...   \n",
       "47804   83.0  18.3   461.0     2.7          4.5         10.4      0.0   \n",
       "47805   83.5  18.0   466.0     2.5          4.5         10.3      1.0   \n",
       "47806   84.0  18.2   474.0     2.5          4.5         10.3      0.0   \n",
       "47807   84.3  18.1   476.0     2.4          4.5         10.3      0.0   \n",
       "47808    NaN   NaN     NaN     NaN          NaN          NaN      NaN   \n",
       "\n",
       "       Tot_PAR_Lamps  \n",
       "0                0.0  \n",
       "1                0.0  \n",
       "2                0.0  \n",
       "3                0.0  \n",
       "4                0.0  \n",
       "...              ...  \n",
       "47804            0.0  \n",
       "47805            0.0  \n",
       "47806            0.0  \n",
       "47807            0.0  \n",
       "47808            0.0  \n",
       "\n",
       "[47809 rows x 8 columns]"
      ]
     },
     "execution_count": 36,
     "metadata": {},
     "output_type": "execute_result"
    }
   ],
   "source": [
    "df"
   ]
  },
  {
   "cell_type": "code",
   "execution_count": 38,
   "id": "4e70b424",
   "metadata": {},
   "outputs": [],
   "source": [
    "df.drop(df.tail(1).index,inplace=True)"
   ]
  },
  {
   "cell_type": "code",
   "execution_count": 95,
   "id": "f860e150",
   "metadata": {},
   "outputs": [],
   "source": [
    "#drop nans\n",
    "df.dropna(inplace=True)"
   ]
  },
  {
   "cell_type": "code",
   "execution_count": 97,
   "id": "42adae2f",
   "metadata": {},
   "outputs": [
    {
     "data": {
      "text/plain": [
       "0        0\n",
       "1        0\n",
       "2        0\n",
       "3        0\n",
       "4        0\n",
       "        ..\n",
       "47803    0\n",
       "47804    0\n",
       "47805    0\n",
       "47806    0\n",
       "47807    0\n",
       "Length: 47738, dtype: int64"
      ]
     },
     "execution_count": 97,
     "metadata": {},
     "output_type": "execute_result"
    }
   ],
   "source": [
    "df.isnull().sum(axis = 1)"
   ]
  },
  {
   "cell_type": "code",
   "execution_count": 98,
   "id": "27f5814b",
   "metadata": {
    "scrolled": true
   },
   "outputs": [
    {
     "data": {
      "text/plain": [
       "(47738, 8)"
      ]
     },
     "execution_count": 98,
     "metadata": {},
     "output_type": "execute_result"
    }
   ],
   "source": [
    "df.shape"
   ]
  },
  {
   "cell_type": "code",
   "execution_count": 99,
   "id": "9769b139",
   "metadata": {},
   "outputs": [
    {
     "data": {
      "text/html": [
       "<div>\n",
       "<style scoped>\n",
       "    .dataframe tbody tr th:only-of-type {\n",
       "        vertical-align: middle;\n",
       "    }\n",
       "\n",
       "    .dataframe tbody tr th {\n",
       "        vertical-align: top;\n",
       "    }\n",
       "\n",
       "    .dataframe thead th {\n",
       "        text-align: right;\n",
       "    }\n",
       "</style>\n",
       "<table border=\"1\" class=\"dataframe\">\n",
       "  <thead>\n",
       "    <tr style=\"text-align: right;\">\n",
       "      <th></th>\n",
       "      <th>Rhair</th>\n",
       "      <th>Tair</th>\n",
       "      <th>CO2air</th>\n",
       "      <th>HumDef</th>\n",
       "      <th>pH_drain_PC</th>\n",
       "      <th>EC_drain_PC</th>\n",
       "      <th>Tot_PAR</th>\n",
       "      <th>Tot_PAR_Lamps</th>\n",
       "    </tr>\n",
       "  </thead>\n",
       "  <tbody>\n",
       "    <tr>\n",
       "      <th>0</th>\n",
       "      <td>60.6</td>\n",
       "      <td>20.9</td>\n",
       "      <td>472.0</td>\n",
       "      <td>7.2</td>\n",
       "      <td>6.3</td>\n",
       "      <td>4.0</td>\n",
       "      <td>0.0</td>\n",
       "      <td>0.0</td>\n",
       "    </tr>\n",
       "    <tr>\n",
       "      <th>1</th>\n",
       "      <td>61.4</td>\n",
       "      <td>20.7</td>\n",
       "      <td>501.0</td>\n",
       "      <td>6.9</td>\n",
       "      <td>6.3</td>\n",
       "      <td>4.0</td>\n",
       "      <td>0.0</td>\n",
       "      <td>0.0</td>\n",
       "    </tr>\n",
       "    <tr>\n",
       "      <th>2</th>\n",
       "      <td>60.9</td>\n",
       "      <td>21.2</td>\n",
       "      <td>489.0</td>\n",
       "      <td>7.2</td>\n",
       "      <td>6.3</td>\n",
       "      <td>4.0</td>\n",
       "      <td>0.0</td>\n",
       "      <td>0.0</td>\n",
       "    </tr>\n",
       "    <tr>\n",
       "      <th>3</th>\n",
       "      <td>62.5</td>\n",
       "      <td>20.7</td>\n",
       "      <td>497.0</td>\n",
       "      <td>6.7</td>\n",
       "      <td>6.3</td>\n",
       "      <td>4.0</td>\n",
       "      <td>0.0</td>\n",
       "      <td>0.0</td>\n",
       "    </tr>\n",
       "    <tr>\n",
       "      <th>4</th>\n",
       "      <td>62.7</td>\n",
       "      <td>20.7</td>\n",
       "      <td>477.0</td>\n",
       "      <td>6.7</td>\n",
       "      <td>6.3</td>\n",
       "      <td>4.0</td>\n",
       "      <td>0.0</td>\n",
       "      <td>0.0</td>\n",
       "    </tr>\n",
       "    <tr>\n",
       "      <th>...</th>\n",
       "      <td>...</td>\n",
       "      <td>...</td>\n",
       "      <td>...</td>\n",
       "      <td>...</td>\n",
       "      <td>...</td>\n",
       "      <td>...</td>\n",
       "      <td>...</td>\n",
       "      <td>...</td>\n",
       "    </tr>\n",
       "    <tr>\n",
       "      <th>47803</th>\n",
       "      <td>82.2</td>\n",
       "      <td>18.3</td>\n",
       "      <td>467.0</td>\n",
       "      <td>2.8</td>\n",
       "      <td>4.5</td>\n",
       "      <td>10.3</td>\n",
       "      <td>0.0</td>\n",
       "      <td>0.0</td>\n",
       "    </tr>\n",
       "    <tr>\n",
       "      <th>47804</th>\n",
       "      <td>83.0</td>\n",
       "      <td>18.3</td>\n",
       "      <td>461.0</td>\n",
       "      <td>2.7</td>\n",
       "      <td>4.5</td>\n",
       "      <td>10.4</td>\n",
       "      <td>0.0</td>\n",
       "      <td>0.0</td>\n",
       "    </tr>\n",
       "    <tr>\n",
       "      <th>47805</th>\n",
       "      <td>83.5</td>\n",
       "      <td>18.0</td>\n",
       "      <td>466.0</td>\n",
       "      <td>2.5</td>\n",
       "      <td>4.5</td>\n",
       "      <td>10.3</td>\n",
       "      <td>1.0</td>\n",
       "      <td>0.0</td>\n",
       "    </tr>\n",
       "    <tr>\n",
       "      <th>47806</th>\n",
       "      <td>84.0</td>\n",
       "      <td>18.2</td>\n",
       "      <td>474.0</td>\n",
       "      <td>2.5</td>\n",
       "      <td>4.5</td>\n",
       "      <td>10.3</td>\n",
       "      <td>0.0</td>\n",
       "      <td>0.0</td>\n",
       "    </tr>\n",
       "    <tr>\n",
       "      <th>47807</th>\n",
       "      <td>84.3</td>\n",
       "      <td>18.1</td>\n",
       "      <td>476.0</td>\n",
       "      <td>2.4</td>\n",
       "      <td>4.5</td>\n",
       "      <td>10.3</td>\n",
       "      <td>0.0</td>\n",
       "      <td>0.0</td>\n",
       "    </tr>\n",
       "  </tbody>\n",
       "</table>\n",
       "<p>47738 rows × 8 columns</p>\n",
       "</div>"
      ],
      "text/plain": [
       "       Rhair  Tair  CO2air  HumDef  pH_drain_PC  EC_drain_PC  Tot_PAR  \\\n",
       "0       60.6  20.9   472.0     7.2          6.3          4.0      0.0   \n",
       "1       61.4  20.7   501.0     6.9          6.3          4.0      0.0   \n",
       "2       60.9  21.2   489.0     7.2          6.3          4.0      0.0   \n",
       "3       62.5  20.7   497.0     6.7          6.3          4.0      0.0   \n",
       "4       62.7  20.7   477.0     6.7          6.3          4.0      0.0   \n",
       "...      ...   ...     ...     ...          ...          ...      ...   \n",
       "47803   82.2  18.3   467.0     2.8          4.5         10.3      0.0   \n",
       "47804   83.0  18.3   461.0     2.7          4.5         10.4      0.0   \n",
       "47805   83.5  18.0   466.0     2.5          4.5         10.3      1.0   \n",
       "47806   84.0  18.2   474.0     2.5          4.5         10.3      0.0   \n",
       "47807   84.3  18.1   476.0     2.4          4.5         10.3      0.0   \n",
       "\n",
       "       Tot_PAR_Lamps  \n",
       "0                0.0  \n",
       "1                0.0  \n",
       "2                0.0  \n",
       "3                0.0  \n",
       "4                0.0  \n",
       "...              ...  \n",
       "47803            0.0  \n",
       "47804            0.0  \n",
       "47805            0.0  \n",
       "47806            0.0  \n",
       "47807            0.0  \n",
       "\n",
       "[47738 rows x 8 columns]"
      ]
     },
     "execution_count": 99,
     "metadata": {},
     "output_type": "execute_result"
    }
   ],
   "source": [
    "df"
   ]
  },
  {
   "cell_type": "code",
   "execution_count": 103,
   "id": "5a4440b4",
   "metadata": {},
   "outputs": [],
   "source": [
    "features = ['Rhair', 'Tair', 'CO2air', 'HumDef', 'pH_drain_PC', 'EC_drain_PC', 'Tot_PAR', 'Tot_PAR_Lamps']"
   ]
  },
  {
   "cell_type": "code",
   "execution_count": 104,
   "id": "b6717312",
   "metadata": {},
   "outputs": [
    {
     "data": {
      "text/plain": [
       "8"
      ]
     },
     "execution_count": 104,
     "metadata": {},
     "output_type": "execute_result"
    }
   ],
   "source": [
    "len(features)"
   ]
  },
  {
   "cell_type": "code",
   "execution_count": 105,
   "id": "46ff7eac",
   "metadata": {},
   "outputs": [],
   "source": [
    "# Let's define the global variables of our dataset\n",
    "TARGET = 'Tair'\n",
    "N_TARGETS = 1\n",
    "N_FEATURES = len(features)"
   ]
  },
  {
   "cell_type": "markdown",
   "id": "57a117f6",
   "metadata": {},
   "source": [
    "### Creating FOLDS for cross-validation"
   ]
  },
  {
   "cell_type": "code",
   "execution_count": 106,
   "id": "a9f242b8",
   "metadata": {},
   "outputs": [],
   "source": [
    "# --------------------------------------------------- #\n",
    "# Let's consider FOLDS with a length of 6 days      #\n",
    "# (5 days will be used for train, 2 for test!)       #\n",
    "# --------------------------------------------------- #\n",
    "\n",
    "FOLD_LENGTH = 5 * 288 * 6  # every 3 hrs x 8 = 24h\n",
    "                        # three years\n",
    "\n",
    "# --------------------------------------------------- #\n",
    "# Let's consider FOLDS starting every trimester       #\n",
    "# --------------------------------------------------- #\n",
    "    \n",
    "FOLD_STRIDE = 288*2 # every 3 hrs x 8 = 24h\n",
    "                   # 1 quarter = 91 days\n",
    "\n",
    "# --------------------------------------------------- #\n",
    "# Let's consider a train-test-split ratio of 2/3      #\n",
    "# --------------------------------------------------- #\n",
    "\n",
    "TRAIN_TEST_RATIO = 0.66"
   ]
  },
  {
   "cell_type": "code",
   "execution_count": 107,
   "id": "795f836d",
   "metadata": {},
   "outputs": [],
   "source": [
    "def get_folds(\n",
    "    df: pd.DataFrame,\n",
    "    fold_length: int,\n",
    "    fold_stride: int) -> List[pd.DataFrame]:\n",
    "    '''\n",
    "    This function slides through the Time Series dataframe of shape (n_timesteps, n_features) to create folds\n",
    "    - of equal `fold_length`\n",
    "    - using `fold_stride` between each fold\n",
    "    \n",
    "    Returns a list of folds, each as a DataFrame\n",
    "    '''\n",
    "    # $CHALLENGIFY_BEGIN\n",
    "    \n",
    "    folds = []\n",
    "    for idx in range(0, len(df), fold_stride):\n",
    "        # Exits the loop as soon as the last fold index would exceed the last index\n",
    "        if (idx + fold_length) > len(df):\n",
    "            break\n",
    "        fold = df.iloc[idx:idx + fold_length, :]\n",
    "        folds.append(fold)\n",
    "    return folds\n",
    "\n",
    "    # $CHALLENGIFY_END"
   ]
  },
  {
   "cell_type": "code",
   "execution_count": 108,
   "id": "2406a3cc",
   "metadata": {},
   "outputs": [
    {
     "name": "stdout",
     "output_type": "stream",
     "text": [
      "The function generated 68 folds.\n",
      "Each fold has a shape equal to (8640, 8).\n"
     ]
    }
   ],
   "source": [
    "folds = get_folds(df, FOLD_LENGTH, FOLD_STRIDE)\n",
    "\n",
    "print(f'The function generated {len(folds)} folds.')\n",
    "print(f'Each fold has a shape equal to {folds[0].shape}.')"
   ]
  },
  {
   "cell_type": "markdown",
   "id": "0faf5b53",
   "metadata": {},
   "source": [
    "### Temporal Train/Test Split"
   ]
  },
  {
   "cell_type": "code",
   "execution_count": 109,
   "id": "541552c9",
   "metadata": {},
   "outputs": [
    {
     "data": {
      "text/html": [
       "<div>\n",
       "<style scoped>\n",
       "    .dataframe tbody tr th:only-of-type {\n",
       "        vertical-align: middle;\n",
       "    }\n",
       "\n",
       "    .dataframe tbody tr th {\n",
       "        vertical-align: top;\n",
       "    }\n",
       "\n",
       "    .dataframe thead th {\n",
       "        text-align: right;\n",
       "    }\n",
       "</style>\n",
       "<table border=\"1\" class=\"dataframe\">\n",
       "  <thead>\n",
       "    <tr style=\"text-align: right;\">\n",
       "      <th></th>\n",
       "      <th>Rhair</th>\n",
       "      <th>Tair</th>\n",
       "      <th>CO2air</th>\n",
       "      <th>HumDef</th>\n",
       "      <th>pH_drain_PC</th>\n",
       "      <th>EC_drain_PC</th>\n",
       "      <th>Tot_PAR</th>\n",
       "      <th>Tot_PAR_Lamps</th>\n",
       "    </tr>\n",
       "  </thead>\n",
       "  <tbody>\n",
       "    <tr>\n",
       "      <th>0</th>\n",
       "      <td>60.6</td>\n",
       "      <td>20.9</td>\n",
       "      <td>472.0</td>\n",
       "      <td>7.2</td>\n",
       "      <td>6.3</td>\n",
       "      <td>4.0</td>\n",
       "      <td>0.0</td>\n",
       "      <td>0.0</td>\n",
       "    </tr>\n",
       "    <tr>\n",
       "      <th>1</th>\n",
       "      <td>61.4</td>\n",
       "      <td>20.7</td>\n",
       "      <td>501.0</td>\n",
       "      <td>6.9</td>\n",
       "      <td>6.3</td>\n",
       "      <td>4.0</td>\n",
       "      <td>0.0</td>\n",
       "      <td>0.0</td>\n",
       "    </tr>\n",
       "    <tr>\n",
       "      <th>2</th>\n",
       "      <td>60.9</td>\n",
       "      <td>21.2</td>\n",
       "      <td>489.0</td>\n",
       "      <td>7.2</td>\n",
       "      <td>6.3</td>\n",
       "      <td>4.0</td>\n",
       "      <td>0.0</td>\n",
       "      <td>0.0</td>\n",
       "    </tr>\n",
       "    <tr>\n",
       "      <th>3</th>\n",
       "      <td>62.5</td>\n",
       "      <td>20.7</td>\n",
       "      <td>497.0</td>\n",
       "      <td>6.7</td>\n",
       "      <td>6.3</td>\n",
       "      <td>4.0</td>\n",
       "      <td>0.0</td>\n",
       "      <td>0.0</td>\n",
       "    </tr>\n",
       "    <tr>\n",
       "      <th>4</th>\n",
       "      <td>62.7</td>\n",
       "      <td>20.7</td>\n",
       "      <td>477.0</td>\n",
       "      <td>6.7</td>\n",
       "      <td>6.3</td>\n",
       "      <td>4.0</td>\n",
       "      <td>0.0</td>\n",
       "      <td>0.0</td>\n",
       "    </tr>\n",
       "    <tr>\n",
       "      <th>...</th>\n",
       "      <td>...</td>\n",
       "      <td>...</td>\n",
       "      <td>...</td>\n",
       "      <td>...</td>\n",
       "      <td>...</td>\n",
       "      <td>...</td>\n",
       "      <td>...</td>\n",
       "      <td>...</td>\n",
       "    </tr>\n",
       "    <tr>\n",
       "      <th>8635</th>\n",
       "      <td>84.6</td>\n",
       "      <td>19.0</td>\n",
       "      <td>513.0</td>\n",
       "      <td>2.5</td>\n",
       "      <td>7.2</td>\n",
       "      <td>8.9</td>\n",
       "      <td>0.0</td>\n",
       "      <td>0.0</td>\n",
       "    </tr>\n",
       "    <tr>\n",
       "      <th>8636</th>\n",
       "      <td>84.8</td>\n",
       "      <td>19.2</td>\n",
       "      <td>521.0</td>\n",
       "      <td>2.5</td>\n",
       "      <td>7.2</td>\n",
       "      <td>8.8</td>\n",
       "      <td>0.0</td>\n",
       "      <td>0.0</td>\n",
       "    </tr>\n",
       "    <tr>\n",
       "      <th>8637</th>\n",
       "      <td>85.1</td>\n",
       "      <td>19.3</td>\n",
       "      <td>522.0</td>\n",
       "      <td>2.5</td>\n",
       "      <td>7.2</td>\n",
       "      <td>8.9</td>\n",
       "      <td>0.0</td>\n",
       "      <td>0.0</td>\n",
       "    </tr>\n",
       "    <tr>\n",
       "      <th>8638</th>\n",
       "      <td>84.8</td>\n",
       "      <td>19.2</td>\n",
       "      <td>525.0</td>\n",
       "      <td>2.5</td>\n",
       "      <td>7.2</td>\n",
       "      <td>8.9</td>\n",
       "      <td>0.0</td>\n",
       "      <td>0.0</td>\n",
       "    </tr>\n",
       "    <tr>\n",
       "      <th>8639</th>\n",
       "      <td>84.6</td>\n",
       "      <td>19.9</td>\n",
       "      <td>503.0</td>\n",
       "      <td>2.6</td>\n",
       "      <td>7.2</td>\n",
       "      <td>8.9</td>\n",
       "      <td>0.0</td>\n",
       "      <td>0.0</td>\n",
       "    </tr>\n",
       "  </tbody>\n",
       "</table>\n",
       "<p>8640 rows × 8 columns</p>\n",
       "</div>"
      ],
      "text/plain": [
       "      Rhair  Tair  CO2air  HumDef  pH_drain_PC  EC_drain_PC  Tot_PAR  \\\n",
       "0      60.6  20.9   472.0     7.2          6.3          4.0      0.0   \n",
       "1      61.4  20.7   501.0     6.9          6.3          4.0      0.0   \n",
       "2      60.9  21.2   489.0     7.2          6.3          4.0      0.0   \n",
       "3      62.5  20.7   497.0     6.7          6.3          4.0      0.0   \n",
       "4      62.7  20.7   477.0     6.7          6.3          4.0      0.0   \n",
       "...     ...   ...     ...     ...          ...          ...      ...   \n",
       "8635   84.6  19.0   513.0     2.5          7.2          8.9      0.0   \n",
       "8636   84.8  19.2   521.0     2.5          7.2          8.8      0.0   \n",
       "8637   85.1  19.3   522.0     2.5          7.2          8.9      0.0   \n",
       "8638   84.8  19.2   525.0     2.5          7.2          8.9      0.0   \n",
       "8639   84.6  19.9   503.0     2.6          7.2          8.9      0.0   \n",
       "\n",
       "      Tot_PAR_Lamps  \n",
       "0               0.0  \n",
       "1               0.0  \n",
       "2               0.0  \n",
       "3               0.0  \n",
       "4               0.0  \n",
       "...             ...  \n",
       "8635            0.0  \n",
       "8636            0.0  \n",
       "8637            0.0  \n",
       "8638            0.0  \n",
       "8639            0.0  \n",
       "\n",
       "[8640 rows x 8 columns]"
      ]
     },
     "execution_count": 109,
     "metadata": {},
     "output_type": "execute_result"
    }
   ],
   "source": [
    "fold = folds[0]\n",
    "fold"
   ]
  },
  {
   "cell_type": "markdown",
   "id": "9a9d9019",
   "metadata": {},
   "source": [
    "☝️ We want to split this fold chronologically into:\n",
    "\n",
    "-  a train dataframe\n",
    "- a test dataframe\n",
    " \n",
    "that will contain all the data we need to be able to sample many (X_i, y_i) pairs in each dataframe in a next step"
   ]
  },
  {
   "cell_type": "markdown",
   "id": "4a3be999",
   "metadata": {},
   "source": [
    "The `INPUT_LENGTH` of each `X_i` is going to be equal to 12 hours"
   ]
  },
  {
   "cell_type": "code",
   "execution_count": 110,
   "id": "62f2c715",
   "metadata": {},
   "outputs": [],
   "source": [
    "INPUT_LENGTH = 12 * 12 # records every 12 hours"
   ]
  },
  {
   "cell_type": "code",
   "execution_count": 111,
   "id": "02362acc",
   "metadata": {},
   "outputs": [],
   "source": [
    "def train_test_split(fold:pd.DataFrame,\n",
    "                     train_test_ratio: float,\n",
    "                     input_length: int) -> Tuple[pd.DataFrame]:\n",
    "    '''\n",
    "    Returns a train dataframe and a test dataframe (fold_train, fold_test)\n",
    "    from which one can sample (X,y) sequences.\n",
    "    df_train should contain all the timesteps until round(train_test_ratio * len(fold))   \n",
    "    '''\n",
    "    # $CHALLENGIFY_BEGIN\n",
    "    \n",
    "    # TRAIN SET\n",
    "    # ======================\n",
    "    last_train_idx = round(train_test_ratio * len(fold))\n",
    "    fold_train = fold.iloc[0:last_train_idx, :]\n",
    "\n",
    "    # TEST SET\n",
    "    # ======================    \n",
    "    first_test_idx = last_train_idx - input_length\n",
    "    fold_test = fold.iloc[first_test_idx:, :]\n",
    "\n",
    "    return (fold_train, fold_test)\n",
    "\n",
    "    # $CHALLENGIFY_END"
   ]
  },
  {
   "cell_type": "code",
   "execution_count": 112,
   "id": "05623791",
   "metadata": {},
   "outputs": [],
   "source": [
    "(fold_train, fold_test) = train_test_split(fold, TRAIN_TEST_RATIO, INPUT_LENGTH)"
   ]
  },
  {
   "cell_type": "markdown",
   "id": "1595d6c7",
   "metadata": {},
   "source": [
    "### Create (X, y) sequences by random sampling in each split"
   ]
  },
  {
   "cell_type": "code",
   "execution_count": 113,
   "id": "461d167f",
   "metadata": {
    "scrolled": true
   },
   "outputs": [
    {
     "name": "stdout",
     "output_type": "stream",
     "text": [
      "N_FEATURES = 8\n",
      "INPUT_LENGTH = 144 timesteps = 12 hours \n"
     ]
    }
   ],
   "source": [
    "# INPUT X\n",
    "print(f'N_FEATURES = {N_FEATURES}')\n",
    "print(f'INPUT_LENGTH = {INPUT_LENGTH} timesteps = {int(INPUT_LENGTH/12)} hours ')"
   ]
  },
  {
   "cell_type": "code",
   "execution_count": 114,
   "id": "39cf98ba",
   "metadata": {},
   "outputs": [
    {
     "name": "stdout",
     "output_type": "stream",
     "text": [
      "N_TARGETS = 1\n",
      "OUTPUT_LENGTH = 1\n"
     ]
    }
   ],
   "source": [
    "# TARGET Y\n",
    "print(f'N_TARGETS = {N_TARGETS}')\n",
    "\n",
    "# Let's only predict 1 value ahead of us\n",
    "OUTPUT_LENGTH = 1\n",
    "print(f'OUTPUT_LENGTH = {OUTPUT_LENGTH}')"
   ]
  },
  {
   "cell_type": "markdown",
   "id": "8868a6dc",
   "metadata": {},
   "source": [
    "Create (X, y) by random sampling in each split"
   ]
  },
  {
   "cell_type": "code",
   "execution_count": 115,
   "id": "06dafdf0",
   "metadata": {},
   "outputs": [],
   "source": [
    "def get_Xi_yi(\n",
    "    fold:pd.DataFrame, \n",
    "    input_length:int, \n",
    "    output_length:int):\n",
    "    '''\n",
    "    - given a fold, it returns one sequence (X_i, y_i)\n",
    "    - with the starting point of the sequence being chosen at random\n",
    "    '''\n",
    "    # $CHALLENGIFY_BEGIN\n",
    "    first_possible_start = 0\n",
    "    last_possible_start = len(fold) - (input_length + output_length) + 1\n",
    "    random_start = np.random.randint(first_possible_start, last_possible_start)\n",
    "    X_i = fold.iloc[random_start:random_start+input_length]    \n",
    "    y_i = fold.iloc[random_start+input_length:\n",
    "                  random_start+input_length+output_length][[TARGET]]\n",
    "    \n",
    "    return (X_i, y_i)\n",
    "    # $CHALLENGIFY_END"
   ]
  },
  {
   "cell_type": "code",
   "execution_count": 116,
   "id": "8f25a60a",
   "metadata": {},
   "outputs": [],
   "source": [
    "X_train_i, y_train_i = get_Xi_yi(fold_train, INPUT_LENGTH, OUTPUT_LENGTH)\n",
    "X_test_i, y_test_i = get_Xi_yi(fold_test, INPUT_LENGTH, OUTPUT_LENGTH)"
   ]
  },
  {
   "cell_type": "code",
   "execution_count": 117,
   "id": "b1a13f95",
   "metadata": {},
   "outputs": [],
   "source": [
    "X_last, y_last = get_Xi_yi(fold_test, input_length=len(fold_test)-1, output_length=OUTPUT_LENGTH)\n",
    "assert y_last.values == fold_test.iloc[-1,:][TARGET]"
   ]
  },
  {
   "cell_type": "code",
   "execution_count": 118,
   "id": "cbd52d4f",
   "metadata": {},
   "outputs": [],
   "source": [
    "def get_X_y(\n",
    "    fold:pd.DataFrame,\n",
    "    number_of_sequences:int,\n",
    "    input_length:int,\n",
    "    output_length:int\n",
    "):\n",
    "   \n",
    "    X, y = [], []\n",
    "\n",
    "    for i in range(number_of_sequences):\n",
    "        (Xi, yi) = get_Xi_yi(fold, input_length, output_length)\n",
    "        X.append(Xi)\n",
    "        y.append(yi)\n",
    "        \n",
    "    return np.array(X), np.array(y)"
   ]
  },
  {
   "cell_type": "code",
   "execution_count": 119,
   "id": "45f81c2f",
   "metadata": {},
   "outputs": [],
   "source": [
    "N_TRAIN = 6666 # number_of_sequences_train\n",
    "N_TEST =  3333 # number_of_sequences_test\n",
    "\n",
    "X_train, y_train = get_X_y(fold_train, N_TRAIN, INPUT_LENGTH, OUTPUT_LENGTH)\n",
    "X_test, y_test = get_X_y(fold_test, N_TEST, INPUT_LENGTH, OUTPUT_LENGTH)"
   ]
  },
  {
   "cell_type": "markdown",
   "id": "8cac9481",
   "metadata": {},
   "source": [
    "## Modelling"
   ]
  },
  {
   "cell_type": "markdown",
   "id": "f26f9e2e",
   "metadata": {},
   "source": [
    "### Recurrent Neural Network: the LSTM"
   ]
  },
  {
   "cell_type": "code",
   "execution_count": 120,
   "id": "24d629b2",
   "metadata": {},
   "outputs": [],
   "source": [
    "from tensorflow.keras import models\n",
    "from tensorflow.keras import layers\n",
    "from tensorflow.keras import optimizers, metrics\n",
    "from tensorflow.keras.layers.experimental.preprocessing import Normalization\n",
    "\n",
    "def init_model(X_train, y_train):\n",
    "    \n",
    "    # $CHALLENGIFY_BEGIN    \n",
    "    \n",
    "    # 0 - Normalization\n",
    "    # ======================    \n",
    "    normalizer = Normalization()\n",
    "    normalizer.adapt(X_train)\n",
    "    \n",
    "    # 1 - RNN architecture\n",
    "    # ======================    \n",
    "    model = models.Sequential()\n",
    "    ## 1.0 - All the rows will be standardized through the already adapted normalization layer\n",
    "    model.add(normalizer)\n",
    "    ## 1.1 - Recurrent Layer\n",
    "    model.add(layers.LSTM(64, \n",
    "                          activation='tanh', \n",
    "                          return_sequences = False,\n",
    "                          recurrent_dropout = 0.3))\n",
    "    ## 1.2 - Predictive Dense Layers\n",
    "    output_length = y_train.shape[1]\n",
    "    model.add(layers.Dense(output_length, activation='linear'))\n",
    "\n",
    "    # 2 - Compiler\n",
    "    # ======================    \n",
    "    adam = optimizers.Adam(learning_rate=0.02)    \n",
    "    model.compile(loss='mse', optimizer=adam, metrics=[\"mae\"])\n",
    "    \n",
    "    return model\n",
    "    # $CHALLENGIFY_END"
   ]
  },
  {
   "cell_type": "code",
   "execution_count": 121,
   "id": "287b2568",
   "metadata": {},
   "outputs": [
    {
     "name": "stdout",
     "output_type": "stream",
     "text": [
      "Model: \"sequential_3\"\n",
      "_________________________________________________________________\n",
      " Layer (type)                Output Shape              Param #   \n",
      "=================================================================\n",
      " normalization_4 (Normalizat  (None, None, 8)          17        \n",
      " ion)                                                            \n",
      "                                                                 \n",
      " lstm_2 (LSTM)               (None, 64)                18688     \n",
      "                                                                 \n",
      " dense_2 (Dense)             (None, 1)                 65        \n",
      "                                                                 \n",
      "=================================================================\n",
      "Total params: 18,770\n",
      "Trainable params: 18,753\n",
      "Non-trainable params: 17\n",
      "_________________________________________________________________\n"
     ]
    }
   ],
   "source": [
    "model = init_model(X_train, y_train)\n",
    "model.summary()"
   ]
  },
  {
   "cell_type": "code",
   "execution_count": 131,
   "id": "cf574fe7",
   "metadata": {},
   "outputs": [],
   "source": [
    "# Function plot_history for visualizing the training of RNN over epochs\n",
    "\n",
    "def plot_history(history):\n",
    "    \n",
    "    fig, ax = plt.subplots(1,2, figsize=(20,7))\n",
    "    # --- LOSS: MSE --- \n",
    "    ax[0].plot(history.history['loss'])\n",
    "    ax[0].plot(history.history['val_loss'])\n",
    "    ax[0].set_title('MSE')\n",
    "    ax[0].set_ylabel('Loss')\n",
    "    ax[0].set_xlabel('Epoch')\n",
    "    ax[0].legend(['Train', 'Validation'], loc='best')\n",
    "    ax[0].grid(axis=\"x\",linewidth=0.5)\n",
    "    ax[0].grid(axis=\"y\",linewidth=0.5)\n",
    "    \n",
    "    # --- METRICS:MAE ---\n",
    "    \n",
    "    ax[1].plot(history.history['mae'])\n",
    "    ax[1].plot(history.history['val_mae'])\n",
    "    ax[1].set_title('MAE')\n",
    "    ax[1].set_ylabel('MAE')\n",
    "    ax[1].set_xlabel('Epoch')\n",
    "    ax[1].legend(['Train', 'Validation'], loc='best')\n",
    "    ax[1].grid(axis=\"x\",linewidth=0.5)\n",
    "    ax[1].grid(axis=\"y\",linewidth=0.5)\n",
    "                        \n",
    "    return ax"
   ]
  },
  {
   "cell_type": "code",
   "execution_count": 123,
   "id": "0d28c5ed",
   "metadata": {},
   "outputs": [],
   "source": [
    "from tensorflow.keras.callbacks import EarlyStopping\n",
    "\n",
    "def fit_model(model: tf.keras.Model, verbose=1) -> Tuple[tf.keras.Model, dict]:\n",
    "\n",
    "    # $CHALLENGIFY_BEGIN\n",
    "    es = EarlyStopping(monitor = \"val_loss\",\n",
    "                      patience = 3,\n",
    "                      mode = \"min\",\n",
    "                      restore_best_weights = True)\n",
    "\n",
    "\n",
    "    history = model.fit(X_train, y_train,\n",
    "                        validation_split = 0.3,\n",
    "                        shuffle = False,\n",
    "                        batch_size = 32,\n",
    "                        epochs = 50,\n",
    "                        callbacks = [es],\n",
    "                        verbose = verbose)\n",
    "\n",
    "    return model, history\n",
    "    # $CHALLENGIFY_END"
   ]
  },
  {
   "cell_type": "code",
   "execution_count": 124,
   "id": "6eee4190",
   "metadata": {},
   "outputs": [
    {
     "name": "stdout",
     "output_type": "stream",
     "text": [
      "Model: \"sequential_4\"\n",
      "_________________________________________________________________\n",
      " Layer (type)                Output Shape              Param #   \n",
      "=================================================================\n",
      " normalization_5 (Normalizat  (None, None, 8)          17        \n",
      " ion)                                                            \n",
      "                                                                 \n",
      " lstm_3 (LSTM)               (None, 64)                18688     \n",
      "                                                                 \n",
      " dense_3 (Dense)             (None, 1)                 65        \n",
      "                                                                 \n",
      "=================================================================\n",
      "Total params: 18,770\n",
      "Trainable params: 18,753\n",
      "Non-trainable params: 17\n",
      "_________________________________________________________________\n",
      "Epoch 1/50\n",
      "146/146 [==============================] - 25s 158ms/step - loss: 32.0306 - mae: 4.2960 - val_loss: 20.3994 - val_mae: 3.7908\n",
      "Epoch 2/50\n",
      "146/146 [==============================] - 23s 155ms/step - loss: 19.2870 - mae: 3.6492 - val_loss: 17.2266 - val_mae: 3.4408\n",
      "Epoch 3/50\n",
      "146/146 [==============================] - 23s 161ms/step - loss: 12.7988 - mae: 2.8324 - val_loss: 9.8405 - val_mae: 2.4226\n",
      "Epoch 4/50\n",
      "146/146 [==============================] - 23s 160ms/step - loss: 6.0823 - mae: 1.8027 - val_loss: 3.3411 - val_mae: 1.4646\n",
      "Epoch 5/50\n",
      "146/146 [==============================] - 23s 159ms/step - loss: 1.9871 - mae: 1.0531 - val_loss: 1.4031 - val_mae: 0.9163\n",
      "Epoch 6/50\n",
      "146/146 [==============================] - 24s 163ms/step - loss: 0.9408 - mae: 0.7319 - val_loss: 0.6459 - val_mae: 0.5695\n",
      "Epoch 7/50\n",
      "146/146 [==============================] - 23s 154ms/step - loss: 0.6002 - mae: 0.5845 - val_loss: 0.4458 - val_mae: 0.4527\n",
      "Epoch 8/50\n",
      "146/146 [==============================] - 20s 139ms/step - loss: 0.4410 - mae: 0.5052 - val_loss: 0.4002 - val_mae: 0.4540\n",
      "Epoch 9/50\n",
      "146/146 [==============================] - 22s 150ms/step - loss: 0.3639 - mae: 0.4540 - val_loss: 0.4050 - val_mae: 0.4761\n",
      "Epoch 10/50\n",
      "146/146 [==============================] - 23s 157ms/step - loss: 0.3852 - mae: 0.4714 - val_loss: 0.3343 - val_mae: 0.4220\n",
      "Epoch 11/50\n",
      "146/146 [==============================] - 22s 150ms/step - loss: 0.3087 - mae: 0.4199 - val_loss: 0.2407 - val_mae: 0.3341\n",
      "Epoch 12/50\n",
      "146/146 [==============================] - 22s 150ms/step - loss: 0.2926 - mae: 0.4098 - val_loss: 0.2123 - val_mae: 0.3101\n",
      "Epoch 13/50\n",
      "146/146 [==============================] - 22s 154ms/step - loss: 0.2850 - mae: 0.4006 - val_loss: 0.2723 - val_mae: 0.4006\n",
      "Epoch 14/50\n",
      "146/146 [==============================] - 23s 156ms/step - loss: 0.2558 - mae: 0.3795 - val_loss: 0.2399 - val_mae: 0.3539\n",
      "Epoch 15/50\n",
      "146/146 [==============================] - 22s 152ms/step - loss: 0.2608 - mae: 0.3833 - val_loss: 0.1989 - val_mae: 0.3159\n",
      "Epoch 16/50\n",
      "146/146 [==============================] - 21s 143ms/step - loss: 0.2531 - mae: 0.3729 - val_loss: 0.1766 - val_mae: 0.3071\n",
      "Epoch 17/50\n",
      "146/146 [==============================] - 23s 156ms/step - loss: 0.2059 - mae: 0.3372 - val_loss: 0.1742 - val_mae: 0.3095\n",
      "Epoch 18/50\n",
      "146/146 [==============================] - 24s 165ms/step - loss: 0.2339 - mae: 0.3597 - val_loss: 0.1328 - val_mae: 0.2489\n",
      "Epoch 19/50\n",
      "146/146 [==============================] - 24s 162ms/step - loss: 0.1950 - mae: 0.3220 - val_loss: 0.1493 - val_mae: 0.2699\n",
      "Epoch 20/50\n",
      "146/146 [==============================] - 24s 163ms/step - loss: 0.2039 - mae: 0.3338 - val_loss: 0.1328 - val_mae: 0.2343\n",
      "Epoch 21/50\n",
      "146/146 [==============================] - 24s 164ms/step - loss: 0.2420 - mae: 0.3699 - val_loss: 0.4525 - val_mae: 0.5695\n"
     ]
    }
   ],
   "source": [
    "# 1 - Initialising the RNN model\n",
    "# ====================================\n",
    "\n",
    "model = init_model(X_train, y_train)\n",
    "model.summary()\n",
    "\n",
    "# 2 - Training\n",
    "# ====================================\n",
    "model, history = fit_model(model)"
   ]
  },
  {
   "cell_type": "code",
   "execution_count": 125,
   "id": "ea20e049",
   "metadata": {
    "scrolled": false
   },
   "outputs": [
    {
     "data": {
      "image/png": "[encoded data removed]",
      "text/plain": [
       "<Figure size 1440x504 with 2 Axes>"
      ]
     },
     "metadata": {
      "needs_background": "light"
     },
     "output_type": "display_data"
    }
   ],
   "source": [
    "plot_history(history);"
   ]
  },
  {
   "cell_type": "code",
   "execution_count": 126,
   "id": "9db2e49c",
   "metadata": {},
   "outputs": [
    {
     "name": "stdout",
     "output_type": "stream",
     "text": [
      "105/105 [==============================] - 4s 34ms/step - loss: 0.5931 - mae: 0.4488\n",
      "The LSTM MAE on the test set is equal to 0.45 Celsius degrees\n"
     ]
    }
   ],
   "source": [
    "# 3 - Evaluation\n",
    "# ====================================\n",
    "res = model.evaluate(X_test, y_test)\n",
    "print(f\"The LSTM MAE on the test set is equal to {round(res[1],2)} Celsius degrees\")"
   ]
  },
  {
   "cell_type": "markdown",
   "id": "33946318",
   "metadata": {},
   "source": [
    "### A Baseline Model to compare our LSTM with"
   ]
  },
  {
   "cell_type": "code",
   "execution_count": 127,
   "id": "77cc45b4",
   "metadata": {},
   "outputs": [],
   "source": [
    "from tensorflow.keras.layers import Lambda\n",
    "\n",
    "def init_baseline():\n",
    "\n",
    "    # $CHALLENGIFY_BEGIN\n",
    "    model = models.Sequential()\n",
    "    model.add(layers.Lambda(lambda x: x[:,-1,1,None]))\n",
    "\n",
    "    adam = optimizers.Adam(learning_rate=0.02)\n",
    "    model.compile(loss='mse', optimizer=adam, metrics=[\"mae\"])\n",
    "\n",
    "    return model"
   ]
  },
  {
   "cell_type": "code",
   "execution_count": 128,
   "id": "a2ae29ed",
   "metadata": {
    "scrolled": true
   },
   "outputs": [
    {
     "name": "stdout",
     "output_type": "stream",
     "text": [
      "105/105 [==============================] - 0s 1ms/step - loss: 0.3591 - mae: 0.2038\n",
      "- The Baseline MAE on the test set is equal to 0.2 Celsius degrees\n"
     ]
    }
   ],
   "source": [
    "baseline_model = init_baseline()\n",
    "baseline_score = baseline_model.evaluate(X_test, y_test)\n",
    "print(f\"- The Baseline MAE on the test set is equal to {round(baseline_score[1],2)} Celsius degrees\")"
   ]
  },
  {
   "cell_type": "code",
   "execution_count": 129,
   "id": "692ec1d3",
   "metadata": {},
   "outputs": [
    {
     "data": {
      "text/plain": [
       "0.4540846993093036"
      ]
     },
     "execution_count": 129,
     "metadata": {},
     "output_type": "execute_result"
    }
   ],
   "source": [
    "baseline_score[1]/res[1]"
   ]
  },
  {
   "cell_type": "code",
   "execution_count": 130,
   "id": "d69c37e1",
   "metadata": {},
   "outputs": [
    {
     "name": "stdout",
     "output_type": "stream",
     "text": [
      "- The LSTM MAE on the test set is equal to 0.45 Celsius degrees\n",
      "🔥 Improvement of the LSTM model over the baseline (on this fold for the test set) = : 54.59 % 🔥\n"
     ]
    }
   ],
   "source": [
    "print(f\"- The LSTM MAE on the test set is equal to {round(res[1],2)} Celsius degrees\")\n",
    "print(f\"🔥 Improvement of the LSTM model over the baseline (on this fold for the test set) = : {abs(round((1 - (baseline_score[1]/res[1]))*100,2))} % 🔥\")"
   ]
  }
 ],
 "metadata": {
  "kernelspec": {
   "display_name": "Python 3 (ipykernel)",
   "language": "python",
   "name": "python3"
  },
  "language_info": {
   "codemirror_mode": {
    "name": "ipython",
    "version": 3
   },
   "file_extension": ".py",
   "mimetype": "text/x-python",
   "name": "python",
   "nbconvert_exporter": "python",
   "pygments_lexer": "ipython3",
   "version": "3.8.12"
  },
  "toc": {
   "base_numbering": 1,
   "nav_menu": {},
   "number_sections": true,
   "sideBar": true,
   "skip_h1_title": true,
   "title_cell": "Table of Contents",
   "title_sidebar": "Contents",
   "toc_cell": false,
   "toc_position": {},
   "toc_section_display": true,
   "toc_window_display": false
  }
 },
 "nbformat": 4,
 "nbformat_minor": 5
}
