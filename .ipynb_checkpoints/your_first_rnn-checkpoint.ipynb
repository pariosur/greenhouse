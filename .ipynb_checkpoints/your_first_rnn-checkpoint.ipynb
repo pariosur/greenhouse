{
 "cells": [
  {
   "cell_type": "markdown",
   "metadata": {},
   "source": [
    "# Your first Recurrent Neural Network (RNN)"
   ]
  },
  {
   "cell_type": "markdown",
   "metadata": {},
   "source": [
    "🙌 Welcome to RNNs! After using CNNs in the previous lesson to deal with images (spatial data), you are going to deal with time-related data (***temporal data***).\n",
    "\n",
    "🎯 Goals of this warm-up challenge:\n",
    "1. Understand what temporal data is\n",
    "2. Build your first Recurrent Neural Networks\n",
    "\n"
   ]
  },
  {
   "cell_type": "markdown",
   "metadata": {},
   "source": [
    "## A Note on Google Colab"
   ]
  },
  {
   "cell_type": "markdown",
   "metadata": {},
   "source": [
    "From now on, you no longer need to use Google Colab. There will be **no performance gains** from using it, as today's machines are powerful enough to tackle this challenge — especially if you're on a MacBook with an MX chip! 😉\n",
    "\n",
    "Proceed with the challenge as you normally would with Jupyter Notebook (❌ Do not use Colab ❌)\n",
    "\n",
    "Good luck! 🚀"
   ]
  },
  {
   "cell_type": "markdown",
   "metadata": {},
   "source": [
    "## (1) 📚 The dataset"
   ]
  },
  {
   "cell_type": "markdown",
   "metadata": {},
   "source": [
    "_Disclaimer: nothing to code by yourself in this section, read it carefully and run the cells. We want you to focus on the RNN and LSTM models, not some Pythonesque questions_ 😉"
   ]
  },
  {
   "cell_type": "markdown",
   "metadata": {},
   "source": [
    "🔢 Imagine that we have access to some data about employees in a company."
   ]
  },
  {
   "cell_type": "code",
   "execution_count": null,
   "metadata": {},
   "outputs": [],
   "source": [
    "import numpy as np\n",
    "\n",
    "X = np.load('X.npy')\n",
    "y = np.load('y.npy')"
   ]
  },
  {
   "cell_type": "code",
   "execution_count": null,
   "metadata": {},
   "outputs": [
    {
     "data": {
      "text/plain": [
       "((25000, 10, 3), (25000,))"
      ]
     },
     "execution_count": null,
     "metadata": {},
     "output_type": "execute_result"
    }
   ],
   "source": [
    "X.shape, y.shape"
   ]
  },
  {
   "cell_type": "markdown",
   "metadata": {},
   "source": [
    "☝️ The dataset describes the evolution of the **employment status of 25 000 employees, year after year**: each sequence corresponds to 10 consecutive years, where each year describes a job situation, comprising 3 components\n",
    "- the salary,\n",
    "- the number of people under someone's responsibility,\n",
    "- the size of the company. \n",
    "\n",
    "🕵🏻 To understand the dataset a bit better, let's look at the data of the first employee."
   ]
  },
  {
   "cell_type": "code",
   "execution_count": null,
   "metadata": {},
   "outputs": [
    {
     "data": {
      "text/html": [
       "<div>\n",
       "<style scoped>\n",
       "    .dataframe tbody tr th:only-of-type {\n",
       "        vertical-align: middle;\n",
       "    }\n",
       "\n",
       "    .dataframe tbody tr th {\n",
       "        vertical-align: top;\n",
       "    }\n",
       "\n",
       "    .dataframe thead th {\n",
       "        text-align: right;\n",
       "    }\n",
       "</style>\n",
       "<table border=\"1\" class=\"dataframe\">\n",
       "  <thead>\n",
       "    <tr style=\"text-align: right;\">\n",
       "      <th></th>\n",
       "      <th>salary</th>\n",
       "      <th>responsibility</th>\n",
       "      <th>company_size</th>\n",
       "    </tr>\n",
       "  </thead>\n",
       "  <tbody>\n",
       "    <tr>\n",
       "      <th>0</th>\n",
       "      <td>0.80</td>\n",
       "      <td>10.73</td>\n",
       "      <td>102.0</td>\n",
       "    </tr>\n",
       "    <tr>\n",
       "      <th>1</th>\n",
       "      <td>0.50</td>\n",
       "      <td>10.73</td>\n",
       "      <td>102.0</td>\n",
       "    </tr>\n",
       "    <tr>\n",
       "      <th>2</th>\n",
       "      <td>0.60</td>\n",
       "      <td>10.73</td>\n",
       "      <td>102.0</td>\n",
       "    </tr>\n",
       "    <tr>\n",
       "      <th>3</th>\n",
       "      <td>0.71</td>\n",
       "      <td>10.73</td>\n",
       "      <td>130.0</td>\n",
       "    </tr>\n",
       "    <tr>\n",
       "      <th>4</th>\n",
       "      <td>0.94</td>\n",
       "      <td>10.73</td>\n",
       "      <td>130.0</td>\n",
       "    </tr>\n",
       "    <tr>\n",
       "      <th>5</th>\n",
       "      <td>1.05</td>\n",
       "      <td>10.73</td>\n",
       "      <td>130.0</td>\n",
       "    </tr>\n",
       "    <tr>\n",
       "      <th>6</th>\n",
       "      <td>1.12</td>\n",
       "      <td>32.00</td>\n",
       "      <td>108.0</td>\n",
       "    </tr>\n",
       "    <tr>\n",
       "      <th>7</th>\n",
       "      <td>4.87</td>\n",
       "      <td>32.00</td>\n",
       "      <td>108.0</td>\n",
       "    </tr>\n",
       "    <tr>\n",
       "      <th>8</th>\n",
       "      <td>4.97</td>\n",
       "      <td>33.00</td>\n",
       "      <td>108.0</td>\n",
       "    </tr>\n",
       "    <tr>\n",
       "      <th>9</th>\n",
       "      <td>5.20</td>\n",
       "      <td>39.00</td>\n",
       "      <td>108.0</td>\n",
       "    </tr>\n",
       "  </tbody>\n",
       "</table>\n",
       "</div>"
      ],
      "text/plain": [
       "   salary  responsibility  company_size\n",
       "0    0.80           10.73         102.0\n",
       "1    0.50           10.73         102.0\n",
       "2    0.60           10.73         102.0\n",
       "3    0.71           10.73         130.0\n",
       "4    0.94           10.73         130.0\n",
       "5    1.05           10.73         130.0\n",
       "6    1.12           32.00         108.0\n",
       "7    4.87           32.00         108.0\n",
       "8    4.97           33.00         108.0\n",
       "9    5.20           39.00         108.0"
      ]
     },
     "execution_count": null,
     "metadata": {},
     "output_type": "execute_result"
    }
   ],
   "source": [
    "import pandas as pd\n",
    "\n",
    "employee_0 = pd.DataFrame(X[0],\n",
    "                          columns=['salary',\n",
    "                                   'responsibility',\n",
    "                                   'company_size'])\n",
    "round(employee_0,2)"
   ]
  },
  {
   "cell_type": "markdown",
   "metadata": {},
   "source": [
    "🎯 The goal in this challenge is to predict the montly salary on the 11th year for each of these 25,000 employees, based on the past observations."
   ]
  },
  {
   "cell_type": "code",
   "execution_count": null,
   "metadata": {},
   "outputs": [
    {
     "data": {
      "text/plain": [
       "6.499"
      ]
     },
     "execution_count": null,
     "metadata": {},
     "output_type": "execute_result"
    }
   ],
   "source": [
    "# For example, the first employee earns 6.499 k USD per month\n",
    "# during the 11th year at the company\n",
    "y[0]"
   ]
  },
  {
   "cell_type": "markdown",
   "metadata": {},
   "source": [
    "📈 To help you get a better understanding about the evolution of the salaries, the number of people under their responsibility and the company size over the years, you can run the cell down below. Can you visually detect some correlations between these three variables?"
   ]
  },
  {
   "cell_type": "code",
   "execution_count": null,
   "metadata": {},
   "outputs": [
    {
     "data": {
      "image/png": "[encoded data removed]",
      "text/plain": [
       "<Figure size 432x288 with 1 Axes>"
      ]
     },
     "metadata": {
      "needs_background": "light"
     },
     "output_type": "display_data"
    },
    {
     "data": {
      "image/png": "[encoded data removed]",
      "text/plain": [
       "<Figure size 432x288 with 1 Axes>"
      ]
     },
     "metadata": {
      "needs_background": "light"
     },
     "output_type": "display_data"
    },
    {
     "data": {
      "image/png": "[encoded data removed]",
      "text/plain": [
       "<Figure size 432x288 with 1 Axes>"
      ]
     },
     "metadata": {
      "needs_background": "light"
     },
     "output_type": "display_data"
    }
   ],
   "source": [
    "import matplotlib.pyplot as plt\n",
    "%matplotlib inline\n",
    "\n",
    "number_of_employees = len(X)\n",
    "\n",
    "### Choosing random employees\n",
    "##### As the employees are selected randomly, feel free to re-run this cell a few times !\n",
    "\n",
    "number_of_randomly_selected_employees = 5\n",
    "\n",
    "random_selection = np.random.randint(0, \n",
    "                                     number_of_employees,\n",
    "                                     number_of_randomly_selected_employees)\n",
    "\n",
    "\n",
    "### Plotting data for the selected employees\n",
    "\n",
    "plt.title('Salary')\n",
    "for r in random_selection:\n",
    "    plt.plot(X[r, :, 0],label=f\"Employee number {r}\",linestyle=\":\",marker=\"o\")\n",
    "    plt.legend(loc='upper left')\n",
    "plt.show()\n",
    "\n",
    "plt.title('# People responsibile for')\n",
    "for r in random_selection:\n",
    "    plt.plot(X[r, :, 1],label=f\"Employee number {r}\",linestyle=\":\",marker=\"o\")\n",
    "    plt.legend(loc='upper left')\n",
    "plt.show()\n",
    "\n",
    "plt.title('Company sizes')\n",
    "for r in random_selection:\n",
    "    plt.plot(X[r, :, 2],label=f\"Employee number {r}\",linestyle=\":\",marker=\"o\")\n",
    "    plt.legend(loc='upper left')\n",
    "plt.show()"
   ]
  },
  {
   "cell_type": "markdown",
   "metadata": {},
   "source": [
    "🕵🏻 **Data Exploration** 🕵🏻 Look at the distribution of:\n",
    "* all the salaries during the 10th year, \n",
    "* people under someone's responsibility, \n",
    "* and the company sizes \n",
    "\n",
    "to get a better understanding of the variability of observations"
   ]
  },
  {
   "cell_type": "code",
   "execution_count": null,
   "metadata": {},
   "outputs": [
    {
     "data": {
      "image/png": "[encoded data removed]",
      "text/plain": [
       "<Figure size 432x288 with 1 Axes>"
      ]
     },
     "metadata": {
      "needs_background": "light"
     },
     "output_type": "display_data"
    },
    {
     "data": {
      "image/png": "[encoded data removed]",
      "text/plain": [
       "<Figure size 432x288 with 1 Axes>"
      ]
     },
     "metadata": {
      "needs_background": "light"
     },
     "output_type": "display_data"
    },
    {
     "data": {
      "image/png": "[encoded data removed]",
      "text/plain": [
       "<Figure size 432x288 with 1 Axes>"
      ]
     },
     "metadata": {
      "needs_background": "light"
     },
     "output_type": "display_data"
    }
   ],
   "source": [
    "import seaborn as sns\n",
    "\n",
    "plt.title(\"Salaries on the 10th year\")\n",
    "sns.histplot(X[:, -1, 0].flatten()) # all the employees, last year, feature #0 = salaries\n",
    "plt.show()\n",
    "\n",
    "plt.title(\"# of people under someone's responsibility\")\n",
    "sns.histplot(X[:, :, 1].flatten()) # all the employees, all the years, feature #1 = responsabilities\n",
    "plt.show()\n",
    "\n",
    "plt.title(\"Company size\")\n",
    "sns.histplot(X[:, :, 2].flatten()) # all the employees, all the years, feature #2 = company size\n",
    "plt.show()"
   ]
  },
  {
   "cell_type": "markdown",
   "metadata": {},
   "source": [
    "✂️ **Hold-out method** Let's split the dataset in a train and test set (80/20)"
   ]
  },
  {
   "cell_type": "code",
   "execution_count": null,
   "metadata": {},
   "outputs": [],
   "source": [
    "from sklearn.model_selection import train_test_split\n",
    "\n",
    "X_train, X_test, y_train, y_test = train_test_split(X, y, test_size=0.20)\n",
    "\n",
    "# Notice that we are train_test_splitting the 25 000 employees!"
   ]
  },
  {
   "cell_type": "markdown",
   "metadata": {},
   "source": [
    "## (2) 💻 A Simple RNN"
   ]
  },
  {
   "cell_type": "markdown",
   "metadata": {},
   "source": [
    "🤗 Now that you are familiar with this company's dataset, you will create your first Recurrent Neural Network. Let's start with a simple architecture."
   ]
  },
  {
   "cell_type": "markdown",
   "metadata": {},
   "source": [
    "❓ **Question** ❓ Write a model that has: \n",
    "- a ***Normalization*** layer adapted to the training set\n",
    "- a ***SimpleRNN*** layer with 20 *units* (don't forget that `tanh` is better suited as an activation function for a Recurrent Layer)\n",
    "- a ***Dense*** layer with 10 neurons\n",
    "- a ***Dense*** layer specific to your task (= to ***predict*** a salary)\n",
    "\n",
    "👩🏻‍🏫 <u>Remember</u>: You don't need to specify an `input_shape`: as soon as your Normalizer has been adapted to your train set, it has memorized the input shape!"
   ]
  },
  {
   "cell_type": "code",
   "execution_count": null,
   "metadata": {},
   "outputs": [],
   "source": [
    "from tensorflow.keras.layers import Normalization\n",
    "from tensorflow.keras.models import Sequential\n",
    "from tensorflow.keras.layers import Dense, SimpleRNN, Flatten"
   ]
  },
  {
   "cell_type": "code",
   "execution_count": null,
   "metadata": {
    "tags": [
     "challengify"
    ]
   },
   "outputs": [
    {
     "name": "stderr",
     "output_type": "stream",
     "text": [
      "2022-09-30 18:33:04.527104: I tensorflow/core/platform/cpu_feature_guard.cc:151] This TensorFlow binary is optimized with oneAPI Deep Neural Network Library (oneDNN) to use the following CPU instructions in performance-critical operations:  AVX2 FMA\n",
      "To enable them in other operations, rebuild TensorFlow with the appropriate compiler flags.\n"
     ]
    }
   ],
   "source": [
    "# Adapting a Normalization Layer to X_train\n",
    "normalizer = Normalization()\n",
    "normalizer.adapt(X_train)\n",
    "\n",
    "# Building the RNN architecture\n",
    "model = Sequential()\n",
    "model.add(normalizer)\n",
    "model.add(SimpleRNN(units=20, activation='tanh'))\n",
    "model.add(Dense(10, activation='relu'))\n",
    "model.add(Dense(1, activation='linear'))"
   ]
  },
  {
   "cell_type": "markdown",
   "metadata": {},
   "source": [
    "❓ **Question**: How many trainable parameters does your RNN have ❓"
   ]
  },
  {
   "cell_type": "code",
   "execution_count": null,
   "metadata": {
    "tags": [
     "challengify"
    ]
   },
   "outputs": [
    {
     "name": "stdout",
     "output_type": "stream",
     "text": [
      "Model: \"sequential\"\n",
      "_________________________________________________________________\n",
      " Layer (type)                Output Shape              Param #   \n",
      "=================================================================\n",
      " normalization (Normalizatio  (None, None, 3)          7         \n",
      " n)                                                              \n",
      "                                                                 \n",
      " simple_rnn (SimpleRNN)      (None, 20)                480       \n",
      "                                                                 \n",
      " dense (Dense)               (None, 10)                210       \n",
      "                                                                 \n",
      " dense_1 (Dense)             (None, 1)                 11        \n",
      "                                                                 \n",
      "=================================================================\n",
      "Total params: 708\n",
      "Trainable params: 701\n",
      "Non-trainable params: 7\n",
      "_________________________________________________________________\n"
     ]
    }
   ],
   "source": [
    "# Printing the RNN summary\n",
    "model.summary()"
   ]
  },
  {
   "cell_type": "markdown",
   "metadata": {},
   "source": [
    "❓ **Question** ❓ Try to recompute the number of parameters manually.\n"
   ]
  },
  {
   "cell_type": "markdown",
   "metadata": {
    "tags": [
     "challengify"
    ]
   },
   "source": []
  },
  {
   "cell_type": "markdown",
   "metadata": {},
   "source": [
    "<details>\n",
    "    <summary><i>Answer</i></summary>\n",
    "\n",
    "\n",
    "- <u> Normalization Layer</u>: \n",
    "    - This layer has $\\color{red}{n_x = 3} $ features (salary, responsibility, company size) to normalize. Each of them requires to compute the <font color=blue>_mean_</font>  and the <font color=blue>_standard_deviation_</font>. So we have $\\color{red}{n_x = 3} \\times \\color{blue}{2} = 6$ non-trainable parameters. The 7th parameter is a bias initially set to 0.\n",
    "\n",
    "- <u> Recurrent Layer</u>: \n",
    "    - If $\\color{green}{n_h = 20} $ RNN units are applied in parallel to $\\color{red}{n_x = 3} $ features, then the Recurrent Layer has $\\color{green}{n_h}(\\color{green}{n_h} + \\color{red}{n_x} + 1) = \\color{green}{20} \\times (\\color{green}{20}+\\color{red}{3}+1) = \\color{green}{20} \\times 24 = 480$ parameters to train.\n",
    "    - Notice how this number is *independent* of the length of each sequence (here 10 days)\n",
    "    \n",
    "- <u> Dense Layer</u>: \n",
    "    - Starting with $\\color{green}{n_h = 20} $ RNN units and $1$ bias, using 10 neurons, the Dense Layer has $ (\\color{green}{20}+1) \\times 10 = 21 \\times 10 = 210$ parameters\n",
    "    \n",
    "- <u> Predictive Dense Layer</u>: \n",
    "    - Starting with $10$ neurons and $1$ bias, using 1 neuron to predict the 11th salary, the Predictive Dense Layer has $ (10+1) \\times 1 = 11 \\times 1 = 11$ parameters\n",
    "    \n",
    "</details>    "
   ]
  },
  {
   "cell_type": "markdown",
   "metadata": {},
   "source": [
    "❓ **Question** ❓ Compile your model. For RNN, we recommend you to use the ***rmsprop*** optimizer (instead of *adam*)."
   ]
  },
  {
   "cell_type": "code",
   "execution_count": null,
   "metadata": {
    "tags": [
     "challengify"
    ]
   },
   "outputs": [],
   "source": [
    "def compile_model(model):\n",
    "    model.compile(loss='mse',\n",
    "                  optimizer='rmsprop', \n",
    "                  metrics=['mae'])\n",
    "    return model\n",
    "\n",
    "model = compile_model(model)"
   ]
  },
  {
   "cell_type": "markdown",
   "metadata": {},
   "source": [
    "❓ **Questions** ❓ \n",
    "\n",
    "* Train your model on your training dataset:\n",
    "    * use a Validation Split of 20%\n",
    "    * and an Early Stopping Criterion with patience $= 5 $\n",
    "* Evaluate your performance on the test set"
   ]
  },
  {
   "cell_type": "code",
   "execution_count": null,
   "metadata": {
    "tags": [
     "challengify"
    ]
   },
   "outputs": [
    {
     "name": "stdout",
     "output_type": "stream",
     "text": [
      "Epoch 1/100\n",
      "500/500 [==============================] - 2s 2ms/step - loss: 16.8143 - mae: 1.6911 - val_loss: 4.5022 - val_mae: 0.7401\n",
      "Epoch 2/100\n",
      "500/500 [==============================] - 1s 2ms/step - loss: 2.0186 - mae: 0.4787 - val_loss: 1.8513 - val_mae: 0.4186\n",
      "Epoch 3/100\n",
      "500/500 [==============================] - 1s 2ms/step - loss: 1.0331 - mae: 0.3710 - val_loss: 1.3479 - val_mae: 0.3670\n",
      "Epoch 4/100\n",
      "500/500 [==============================] - 1s 2ms/step - loss: 0.7787 - mae: 0.3418 - val_loss: 1.0697 - val_mae: 0.3465\n",
      "Epoch 5/100\n",
      "500/500 [==============================] - 1s 2ms/step - loss: 0.7040 - mae: 0.3310 - val_loss: 0.9837 - val_mae: 0.3329\n",
      "Epoch 6/100\n",
      "500/500 [==============================] - 1s 2ms/step - loss: 0.6466 - mae: 0.3279 - val_loss: 0.9503 - val_mae: 0.3143\n",
      "Epoch 7/100\n",
      "500/500 [==============================] - 1s 2ms/step - loss: 0.6288 - mae: 0.3203 - val_loss: 0.8771 - val_mae: 0.3077\n",
      "Epoch 8/100\n",
      "500/500 [==============================] - 1s 2ms/step - loss: 0.6071 - mae: 0.3170 - val_loss: 0.8788 - val_mae: 0.3453\n",
      "Epoch 9/100\n",
      "500/500 [==============================] - 1s 2ms/step - loss: 0.5854 - mae: 0.3169 - val_loss: 0.8586 - val_mae: 0.3663\n",
      "Epoch 10/100\n",
      "500/500 [==============================] - 1s 2ms/step - loss: 0.5726 - mae: 0.3111 - val_loss: 0.8772 - val_mae: 0.2999\n",
      "Epoch 11/100\n",
      "500/500 [==============================] - 1s 2ms/step - loss: 0.5746 - mae: 0.3110 - val_loss: 0.8701 - val_mae: 0.3800\n",
      "Epoch 12/100\n",
      "500/500 [==============================] - 1s 2ms/step - loss: 0.5676 - mae: 0.3072 - val_loss: 0.8170 - val_mae: 0.3142\n",
      "Epoch 13/100\n",
      "500/500 [==============================] - 1s 2ms/step - loss: 0.5523 - mae: 0.3091 - val_loss: 0.8318 - val_mae: 0.3085\n",
      "Epoch 14/100\n",
      "500/500 [==============================] - 1s 2ms/step - loss: 0.5574 - mae: 0.3066 - val_loss: 0.8175 - val_mae: 0.3168\n",
      "Epoch 15/100\n",
      "500/500 [==============================] - 1s 2ms/step - loss: 0.5538 - mae: 0.3025 - val_loss: 0.8138 - val_mae: 0.3218\n",
      "Epoch 16/100\n",
      "500/500 [==============================] - 1s 2ms/step - loss: 0.5420 - mae: 0.3021 - val_loss: 0.8747 - val_mae: 0.2909\n",
      "Epoch 17/100\n",
      "500/500 [==============================] - 1s 2ms/step - loss: 0.5446 - mae: 0.3025 - val_loss: 0.8452 - val_mae: 0.3081\n",
      "Epoch 18/100\n",
      "500/500 [==============================] - 1s 2ms/step - loss: 0.5462 - mae: 0.3031 - val_loss: 0.8148 - val_mae: 0.3262\n",
      "Epoch 19/100\n",
      "500/500 [==============================] - 1s 2ms/step - loss: 0.5408 - mae: 0.3000 - val_loss: 0.7893 - val_mae: 0.2940\n",
      "Epoch 20/100\n",
      "500/500 [==============================] - 1s 2ms/step - loss: 0.5277 - mae: 0.3004 - val_loss: 0.8208 - val_mae: 0.2863\n",
      "Epoch 21/100\n",
      "500/500 [==============================] - 1s 2ms/step - loss: 0.5311 - mae: 0.2999 - val_loss: 0.8139 - val_mae: 0.3558\n",
      "Epoch 22/100\n",
      "500/500 [==============================] - 1s 2ms/step - loss: 0.5247 - mae: 0.3012 - val_loss: 0.7738 - val_mae: 0.3023\n",
      "Epoch 23/100\n",
      "500/500 [==============================] - 1s 2ms/step - loss: 0.5180 - mae: 0.2973 - val_loss: 0.8065 - val_mae: 0.2913\n",
      "Epoch 24/100\n",
      "500/500 [==============================] - 1s 2ms/step - loss: 0.5244 - mae: 0.2965 - val_loss: 0.8896 - val_mae: 0.2955\n",
      "Epoch 25/100\n",
      "500/500 [==============================] - 1s 2ms/step - loss: 0.5237 - mae: 0.2910 - val_loss: 0.8384 - val_mae: 0.3060\n",
      "Epoch 26/100\n",
      "500/500 [==============================] - 1s 2ms/step - loss: 0.5209 - mae: 0.2961 - val_loss: 0.7608 - val_mae: 0.2826\n",
      "Epoch 27/100\n",
      "500/500 [==============================] - 1s 2ms/step - loss: 0.5191 - mae: 0.2934 - val_loss: 0.7666 - val_mae: 0.2944\n",
      "Epoch 28/100\n",
      "500/500 [==============================] - 1s 2ms/step - loss: 0.5210 - mae: 0.2950 - val_loss: 0.8703 - val_mae: 0.2796\n",
      "Epoch 29/100\n",
      "500/500 [==============================] - 1s 2ms/step - loss: 0.5161 - mae: 0.2934 - val_loss: 0.8456 - val_mae: 0.3687\n",
      "Epoch 30/100\n",
      "500/500 [==============================] - 1s 2ms/step - loss: 0.5172 - mae: 0.2925 - val_loss: 0.7775 - val_mae: 0.2962\n",
      "Epoch 31/100\n",
      "500/500 [==============================] - 1s 2ms/step - loss: 0.5093 - mae: 0.2926 - val_loss: 0.8412 - val_mae: 0.3118\n",
      "CPU times: user 35.6 s, sys: 4.1 s, total: 39.7 s\n",
      "Wall time: 27.7 s\n"
     ]
    }
   ],
   "source": [
    "%%time\n",
    "\n",
    "from tensorflow.keras.callbacks import EarlyStopping\n",
    "\n",
    "es = EarlyStopping(patience=5, restore_best_weights=True)\n",
    "\n",
    "history = model.fit(X_train, y_train,\n",
    "                    validation_split=0.2,\n",
    "                    batch_size=32, \n",
    "                    epochs=100, \n",
    "                    callbacks=[es],\n",
    "                    verbose=1)"
   ]
  },
  {
   "cell_type": "code",
   "execution_count": null,
   "metadata": {
    "tags": [
     "delete"
    ]
   },
   "outputs": [
    {
     "data": {
      "text/plain": [
       "<matplotlib.legend.Legend at 0x14ad03be0>"
      ]
     },
     "execution_count": null,
     "metadata": {},
     "output_type": "execute_result"
    },
    {
     "data": {
      "image/png": "[encoded data removed]",
      "text/plain": [
       "<Figure size 432x288 with 1 Axes>"
      ]
     },
     "metadata": {
      "needs_background": "light"
     },
     "output_type": "display_data"
    }
   ],
   "source": [
    "plt.plot(history.history[\"mae\"], label = \"Train MAE\")\n",
    "plt.plot(history.history[\"val_mae\"], label = \"Validation MAE\")\n",
    "plt.legend()"
   ]
  },
  {
   "cell_type": "code",
   "execution_count": null,
   "metadata": {
    "tags": [
     "delete"
    ]
   },
   "outputs": [
    {
     "name": "stdout",
     "output_type": "stream",
     "text": [
      "Model Mean Absolute Error 0.2917\n"
     ]
    }
   ],
   "source": [
    "model_mae = model.evaluate(X_test, y_test, verbose=0)\n",
    "\n",
    "print(f'Model Mean Absolute Error {model_mae[1]:.4f}')"
   ]
  },
  {
   "cell_type": "markdown",
   "metadata": {},
   "source": [
    "## (3) 💻 Baseline comparison"
   ]
  },
  {
   "cell_type": "markdown",
   "metadata": {},
   "source": [
    "> ❗️ **Important reminder** ❗️ \n",
    ">  \n",
    "> ***Always remember to compare your Deep Learning models, and more generally any Machine Learning model, to a baseline model.***\n",
    "\n",
    "🧑🏻‍🏫 Remember that our goal is to predict the salary of the employees for the 11th year. It is a ***Regression task***. What baseline could we build? \n",
    "1. In the case of a traditional regression model, a baseline prediction for `y_test` is  to **predict the average of `y_train`**... but this option could be irrelevant for time-related series. Theoretically, someone's salary is supposed to increase over the years!\n",
    "2. An alternative baseline prediction for a regression task is to **predict the last seen value**"
   ]
  },
  {
   "cell_type": "markdown",
   "metadata": {},
   "source": [
    "❓ **Questions** ❓ \n",
    "* Compute the Mean Absolute Error of a baseline model that predicts that the salary remains constant between the 10-th and 11-th year\n",
    "* Compare this baseline model to your RNN"
   ]
  },
  {
   "cell_type": "code",
   "execution_count": null,
   "metadata": {
    "tags": [
     "challengify"
    ]
   },
   "outputs": [
    {
     "name": "stdout",
     "output_type": "stream",
     "text": [
      "Baseline MAE = 0.595\n",
      "vs.\n",
      "RNN MAE = 0.292\n"
     ]
    }
   ],
   "source": [
    "def constant_prediction(X, y):\n",
    "    errors = []\n",
    "    for xx, yy in zip(X, y):\n",
    "        last_salary = xx[-1][0]        # Using the 10th salary to predict the 11th salary\n",
    "        errors.append(yy - last_salary)\n",
    "        \n",
    "    return errors\n",
    "\n",
    "errors_baseline = constant_prediction(X, y)\n",
    "mae_baseline = np.mean(np.abs(errors_baseline))\n",
    "\n",
    "print(f'Baseline MAE = {mae_baseline:.3f}')\n",
    "print(\"vs.\")\n",
    "print(f'RNN MAE = {model_mae[1]:.3f}')"
   ]
  },
  {
   "cell_type": "markdown",
   "metadata": {},
   "source": [
    "👉 If you are stuck with this question, try `(4) LSTM` and come back to this afterwards.\n",
    "\n",
    "🧑🏻‍🏫 Ask a TA if needed. Look at the answer only if you already tried to answer these questions unsuccessfully.\n",
    "\n",
    "<details>\n",
    "    <summary><i>Answer</i></summary>\n",
    "\n",
    "\n",
    "```python\n",
    "def constant_prediction(X, y):\n",
    "    errors = []\n",
    "    for xx, yy in zip(X, y):\n",
    "        last_salary = xx[-1][0]        # Using the 10th salary to predict the 11th salary\n",
    "        errors.append(yy - last_salary)\n",
    "        \n",
    "    return errors    \n",
    "```\n",
    "    \n",
    "</details>    "
   ]
  },
  {
   "cell_type": "markdown",
   "metadata": {},
   "source": [
    "😁 You should notice that your RNN performs a bit better than a baseline model."
   ]
  },
  {
   "cell_type": "markdown",
   "metadata": {},
   "source": [
    "## (4) 💻 LSTM: Long-Short Term Memory"
   ]
  },
  {
   "cell_type": "markdown",
   "metadata": {},
   "source": [
    "❓ **Questions** ❓ \n",
    "\n",
    "* Write the exact same model, but with a `LSTM` layer instead of a `SimpleRNN` layer\n",
    "* Evaluate your performance on the test set"
   ]
  },
  {
   "cell_type": "code",
   "execution_count": null,
   "metadata": {
    "tags": [
     "challengify"
    ]
   },
   "outputs": [
    {
     "name": "stdout",
     "output_type": "stream",
     "text": [
      "Epoch 1/100\n",
      "500/500 [==============================] - 3s 3ms/step - loss: 24.6108 - mae: 2.3808 - val_loss: 9.4032 - val_mae: 1.1350\n",
      "Epoch 2/100\n",
      "500/500 [==============================] - 1s 2ms/step - loss: 4.7007 - mae: 0.7303 - val_loss: 3.1901 - val_mae: 0.5069\n",
      "Epoch 3/100\n",
      "500/500 [==============================] - 1s 3ms/step - loss: 1.7709 - mae: 0.4131 - val_loss: 1.8031 - val_mae: 0.4227\n",
      "Epoch 4/100\n",
      "500/500 [==============================] - 1s 2ms/step - loss: 1.0965 - mae: 0.3569 - val_loss: 1.3579 - val_mae: 0.3193\n",
      "Epoch 5/100\n",
      "500/500 [==============================] - 1s 2ms/step - loss: 0.8540 - mae: 0.3328 - val_loss: 1.1889 - val_mae: 0.3283\n",
      "Epoch 6/100\n",
      "500/500 [==============================] - 1s 2ms/step - loss: 0.7528 - mae: 0.3219 - val_loss: 1.0634 - val_mae: 0.2962\n",
      "Epoch 7/100\n",
      "500/500 [==============================] - 1s 3ms/step - loss: 0.6823 - mae: 0.3138 - val_loss: 0.9936 - val_mae: 0.3446\n",
      "Epoch 8/100\n",
      "500/500 [==============================] - 1s 2ms/step - loss: 0.6403 - mae: 0.3056 - val_loss: 0.9591 - val_mae: 0.3075\n",
      "Epoch 9/100\n",
      "500/500 [==============================] - 1s 2ms/step - loss: 0.6065 - mae: 0.3018 - val_loss: 0.9390 - val_mae: 0.3562\n",
      "Epoch 10/100\n",
      "500/500 [==============================] - 1s 2ms/step - loss: 0.5879 - mae: 0.2967 - val_loss: 0.9108 - val_mae: 0.3081\n",
      "Epoch 11/100\n",
      "500/500 [==============================] - 1s 2ms/step - loss: 0.5727 - mae: 0.2954 - val_loss: 0.8516 - val_mae: 0.2753\n",
      "Epoch 12/100\n",
      "500/500 [==============================] - 1s 2ms/step - loss: 0.5699 - mae: 0.2889 - val_loss: 0.9514 - val_mae: 0.3208\n",
      "Epoch 13/100\n",
      "500/500 [==============================] - 1s 2ms/step - loss: 0.5590 - mae: 0.2887 - val_loss: 0.8490 - val_mae: 0.3152\n",
      "Epoch 14/100\n",
      "500/500 [==============================] - 1s 2ms/step - loss: 0.5514 - mae: 0.2862 - val_loss: 0.8334 - val_mae: 0.2784\n",
      "Epoch 15/100\n",
      "500/500 [==============================] - 1s 3ms/step - loss: 0.5638 - mae: 0.2834 - val_loss: 0.8745 - val_mae: 0.3585\n",
      "Epoch 16/100\n",
      "500/500 [==============================] - 1s 3ms/step - loss: 0.5532 - mae: 0.2837 - val_loss: 0.8765 - val_mae: 0.2831\n",
      "Epoch 17/100\n",
      "500/500 [==============================] - 1s 2ms/step - loss: 0.5475 - mae: 0.2817 - val_loss: 0.8686 - val_mae: 0.3775\n",
      "Epoch 18/100\n",
      "500/500 [==============================] - 1s 2ms/step - loss: 0.5500 - mae: 0.2789 - val_loss: 0.9310 - val_mae: 0.3292\n",
      "Epoch 19/100\n",
      "500/500 [==============================] - 1s 2ms/step - loss: 0.5410 - mae: 0.2787 - val_loss: 0.9086 - val_mae: 0.3799\n",
      "CPU times: user 32.3 s, sys: 3.97 s, total: 36.3 s\n",
      "Wall time: 25.1 s\n"
     ]
    }
   ],
   "source": [
    "%%time\n",
    "\n",
    "from tensorflow.keras.layers import LSTM\n",
    "from tensorflow.keras.callbacks import EarlyStopping\n",
    "\n",
    "model_LSTM = Sequential()\n",
    "model_LSTM.add(normalizer)\n",
    "model_LSTM.add(LSTM(units=20, activation='tanh'))\n",
    "model_LSTM.add(Dense(10, activation='relu'))\n",
    "model_LSTM.add(Dense(1, activation='linear'))\n",
    "\n",
    "model_LSTM = compile_model(model_LSTM)\n",
    "\n",
    "es = EarlyStopping(patience=5, restore_best_weights=True)\n",
    "\n",
    "history_LSTM = model_LSTM.fit(X_train, y_train,\n",
    "                              validation_split=0.2,\n",
    "                              batch_size=32, \n",
    "                              epochs=100,\n",
    "                              callbacks=[es],verbose=1)"
   ]
  },
  {
   "cell_type": "code",
   "execution_count": null,
   "metadata": {
    "tags": [
     "delete"
    ]
   },
   "outputs": [
    {
     "data": {
      "text/plain": [
       "[<matplotlib.lines.Line2D at 0x14b260d00>]"
      ]
     },
     "execution_count": null,
     "metadata": {},
     "output_type": "execute_result"
    },
    {
     "data": {
      "image/png": "[encoded data removed]",
      "text/plain": [
       "<Figure size 432x288 with 1 Axes>"
      ]
     },
     "metadata": {
      "needs_background": "light"
     },
     "output_type": "display_data"
    }
   ],
   "source": [
    "plt.plot(history_LSTM.history[\"mae\"])\n",
    "plt.plot(history_LSTM.history[\"val_mae\"])"
   ]
  },
  {
   "cell_type": "code",
   "execution_count": null,
   "metadata": {
    "tags": [
     "delete"
    ]
   },
   "outputs": [
    {
     "name": "stdout",
     "output_type": "stream",
     "text": [
      "157/157 [==============================] - 1s 2ms/step - loss: 1.0316 - mae: 0.2875\n"
     ]
    }
   ],
   "source": [
    "lstm_mae = model_LSTM.evaluate(X_test, y_test)"
   ]
  },
  {
   "cell_type": "code",
   "execution_count": null,
   "metadata": {
    "tags": [
     "delete"
    ]
   },
   "outputs": [
    {
     "name": "stdout",
     "output_type": "stream",
     "text": [
      "Baseline MAE = 0.595\n",
      "vs.\n",
      "RNN MAE = 0.292\n",
      "vs.\n",
      "LSTM MAE = 0.287\n"
     ]
    }
   ],
   "source": [
    "print(f'Baseline MAE = {mae_baseline:.3f}')\n",
    "print(\"vs.\")\n",
    "print(f'RNN MAE = {model_mae[1]:.3f}')\n",
    "print(\"vs.\")\n",
    "print(f'LSTM MAE = {lstm_mae[1]:.3f}')"
   ]
  },
  {
   "cell_type": "markdown",
   "metadata": {},
   "source": [
    "💪 The LSTM should perform a bit better than the SimpleRNN with a lower MAE."
   ]
  },
  {
   "cell_type": "markdown",
   "metadata": {},
   "source": [
    "🏁 Congratulations! You know how to train a RNN on sequential data.\n",
    " \n",
    "\n",
    "💾 Do not forget to git add/commit/push your notebook...\n",
    "\n",
    "🚀 ... and move to the next challenge!\n",
    "\n",
    "---\n",
    "\n",
    "<u>Note</u>: The sequences you worked with are totally fake. In case, you need to train and reproduce similar data, you can find below the functions that have been used to simulate such a dataset."
   ]
  },
  {
   "cell_type": "markdown",
   "metadata": {},
   "source": [
    "## 🛠 (Utils)"
   ]
  },
  {
   "cell_type": "code",
   "execution_count": null,
   "metadata": {},
   "outputs": [],
   "source": [
    "def create_sequences(number):\n",
    "    X, y = [], []\n",
    "    \n",
    "    for i in range(number):\n",
    "        x_i, y_i = create_individual_sequence(10)\n",
    "        X.append(x_i)\n",
    "        y.append(y_i)\n",
    "        \n",
    "    return np.array(X), np.array(y)\n",
    "            \n",
    "def create_individual_sequence(length):\n",
    "    company_sizes = []\n",
    "    nb_persons = []\n",
    "    salaries = []\n",
    "    \n",
    "    \n",
    "    # Education level\n",
    "    educ_level = [max(0, int(np.random.normal(10, 2)))]*length\n",
    "    \n",
    "    # Company size\n",
    "    current_size = int(1 + np.random.beta(.4, 4)*500)\n",
    "    for i in range(length):\n",
    "        if not np.random.randint(4): # Change 1 out of 3 possibilities \n",
    "            current_size = int(max(1, np.random.normal(current_size, 50)))\n",
    "        company_sizes.append(current_size)\n",
    "    \n",
    "    # Number of persons\n",
    "    nb_iter = np.random.beta(.15, 4)*300\n",
    "    for i in range(length):\n",
    "        if not np.random.randint(2): # Change 1 out of 2 possibilities\n",
    "            R_1 = np.random.beta(0.5, 8)*3\n",
    "            nb_iter = nb_iter + max(-2, R_1*company_sizes[i] + np.random.randint(-2, 2))\n",
    "            nb_iter = max(0, nb_iter)\n",
    "            nb_iter = int(min(company_sizes[i]-1, nb_iter))\n",
    "        nb_persons.append(nb_iter)\n",
    "        \n",
    "    \n",
    "    # Salary\n",
    "    salary_iter = max(800, int(np.random.normal(1200, 300)+ 0.05*company_sizes[0] +  np.random.normal(40, 400)))\n",
    "    salaries.append(salary_iter)\n",
    "    for i in range(1, length + 1):\n",
    "        R_1 = np.random.normal(100, 50)\n",
    "        change_person = nb_persons[i-1] - nb_persons[i-2]\n",
    "        change_company = max(0, company_sizes[i-1] - company_sizes[i-2])\n",
    "        salary_iter = salary_iter + 0.05*change_company + change_person*R_1 + np.random.normal(100, 50)\n",
    "        salary_iter = max(int(salary_iter), 500)\n",
    "        \n",
    "        salaries.append(salary_iter)\n",
    "\n",
    "    y = salaries[-1]/1000\n",
    "    salaries = [_/1000 for _ in salaries[:-1]]\n",
    "    \n",
    "    return np.array([salaries, nb_persons, company_sizes]).T, y"
   ]
  },
  {
   "cell_type": "code",
   "execution_count": null,
   "metadata": {},
   "outputs": [],
   "source": [
    "#X, y = create_sequences(25000)\n",
    "\n",
    "#np.save('X', X.astype(np.float32))\n",
    "#np.save('y', y)"
   ]
  }
 ],
 "metadata": {
  "kernelspec": {
   "display_name": "Python 3 (ipykernel)",
   "language": "python",
   "name": "python3"
  },
  "language_info": {
   "codemirror_mode": {
    "name": "ipython",
    "version": 3
   },
   "file_extension": ".py",
   "mimetype": "text/x-python",
   "name": "python",
   "nbconvert_exporter": "python",
   "pygments_lexer": "ipython3",
   "version": "3.8.12"
  },
  "toc": {
   "base_numbering": 1,
   "nav_menu": {},
   "number_sections": true,
   "sideBar": true,
   "skip_h1_title": false,
   "title_cell": "Table of Contents",
   "title_sidebar": "Contents",
   "toc_cell": false,
   "toc_position": {},
   "toc_section_display": true,
   "toc_window_display": false
  }
 },
 "nbformat": 4,
 "nbformat_minor": 4
}
